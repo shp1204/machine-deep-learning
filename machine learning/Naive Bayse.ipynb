{
 "cells": [
  {
   "cell_type": "markdown",
   "metadata": {},
   "source": [
    "# BernoulliiNB"
   ]
  },
  {
   "cell_type": "code",
   "execution_count": 1,
   "metadata": {
    "ExecuteTime": {
     "end_time": "2020-05-21T15:46:57.391673Z",
     "start_time": "2020-05-21T15:46:54.199394Z"
    }
   },
   "outputs": [],
   "source": [
    "import numpy as np\n",
    "from sklearn.naive_bayes import BernoulliNB"
   ]
  },
  {
   "cell_type": "code",
   "execution_count": null,
   "metadata": {},
   "outputs": [],
   "source": [
    "# X : 단어 포함시 1 미포함시 0\n",
    "# y : 정상 메일 0 스팸 메일 1"
   ]
  },
  {
   "cell_type": "code",
   "execution_count": 6,
   "metadata": {
    "ExecuteTime": {
     "end_time": "2020-05-21T15:48:34.226363Z",
     "start_time": "2020-05-21T15:48:34.215370Z"
    }
   },
   "outputs": [],
   "source": [
    "X = np.array([\n",
    "    [0, 1, 1, 0],\n",
    "    [1, 1, 1, 1],\n",
    "    [1, 1, 1, 0],\n",
    "    [0, 1, 0, 0],\n",
    "    [0, 0, 0, 1],\n",
    "    [0, 1, 1, 0],\n",
    "    [0, 1, 1, 1],\n",
    "    [1, 0, 1, 0],\n",
    "    [1, 0, 1, 1],\n",
    "    [0, 1, 1, 0]])\n",
    "y = np.array([0, 0, 0, 0, 1, 1, 1, 1, 1, 1])"
   ]
  },
  {
   "cell_type": "code",
   "execution_count": 7,
   "metadata": {
    "ExecuteTime": {
     "end_time": "2020-05-21T15:48:36.147723Z",
     "start_time": "2020-05-21T15:48:36.141719Z"
    },
    "scrolled": false
   },
   "outputs": [],
   "source": [
    "model_bern = BernoulliNB().fit(X, y)"
   ]
  },
  {
   "cell_type": "code",
   "execution_count": 8,
   "metadata": {
    "ExecuteTime": {
     "end_time": "2020-05-21T15:48:38.431344Z",
     "start_time": "2020-05-21T15:48:38.422338Z"
    }
   },
   "outputs": [
    {
     "data": {
      "text/plain": [
       "array([[0.34501348, 0.65498652]])"
      ]
     },
     "execution_count": 8,
     "metadata": {},
     "output_type": "execute_result"
    }
   ],
   "source": [
    "# 예측\n",
    "x_new = np.array([0, 1, 1, 1])\n",
    "model_bern.predict_proba([x_new])\n",
    "# 스팸일 확률이 더 높다"
   ]
  },
  {
   "cell_type": "code",
   "execution_count": 9,
   "metadata": {
    "ExecuteTime": {
     "end_time": "2020-05-21T15:48:39.856358Z",
     "start_time": "2020-05-21T15:48:39.846347Z"
    },
    "scrolled": true
   },
   "outputs": [
    {
     "data": {
      "text/plain": [
       "array([[0.09530901, 0.90469099]])"
      ]
     },
     "execution_count": 9,
     "metadata": {},
     "output_type": "execute_result"
    }
   ],
   "source": [
    "x_new = np.array([0, 0, 1, 1])\n",
    "model_bern.predict_proba([x_new])\n",
    "# 스팸일 확률이 더 높다"
   ]
  },
  {
   "cell_type": "code",
   "execution_count": 10,
   "metadata": {
    "ExecuteTime": {
     "end_time": "2020-05-21T15:53:09.592733Z",
     "start_time": "2020-05-21T15:53:09.583727Z"
    }
   },
   "outputs": [
    {
     "data": {
      "text/plain": [
       "array([[0.6371329, 0.3628671]])"
      ]
     },
     "execution_count": 10,
     "metadata": {},
     "output_type": "execute_result"
    }
   ],
   "source": [
    "x_new = np.array([1, 1, 1, 0])\n",
    "model_bern.predict_proba([x_new])\n",
    "# 스팸일 확률이 더 높다"
   ]
  },
  {
   "cell_type": "markdown",
   "metadata": {},
   "source": [
    "# GaussianNB"
   ]
  },
  {
   "cell_type": "code",
   "execution_count": 18,
   "metadata": {
    "ExecuteTime": {
     "end_time": "2020-05-21T17:33:19.655089Z",
     "start_time": "2020-05-21T17:33:19.650102Z"
    }
   },
   "outputs": [],
   "source": [
    "from sklearn.naive_bayes import GaussianNB"
   ]
  },
  {
   "cell_type": "code",
   "execution_count": 38,
   "metadata": {
    "ExecuteTime": {
     "end_time": "2020-05-21T17:43:25.047616Z",
     "start_time": "2020-05-21T17:43:25.037626Z"
    }
   },
   "outputs": [],
   "source": [
    "X = np.array([\n",
    "    [0, 1, 1, 0],\n",
    "    [1, 1, 1, 1],\n",
    "    [1, 1, 1, 0],\n",
    "    [0, 1, 0, 0],\n",
    "    [0, 0, 0, 1],\n",
    "    [0, 1, 1, 0],\n",
    "    [0, 1, 1, 1],\n",
    "    [1, 0, 1, 0],\n",
    "    [1, 0, 1, 1],\n",
    "    [0, 1, 1, 0]])\n",
    "y = np.array([0, 0, 0, 0, 1, 1, 1, 1, 1, 1])"
   ]
  },
  {
   "cell_type": "code",
   "execution_count": 39,
   "metadata": {
    "ExecuteTime": {
     "end_time": "2020-05-21T17:43:26.108367Z",
     "start_time": "2020-05-21T17:43:26.102381Z"
    }
   },
   "outputs": [],
   "source": [
    "#X는 독립변수 데이터 셋, y는 종속변수 데이터 셋\n",
    "model_NB = GaussianNB().fit(X, y)"
   ]
  },
  {
   "cell_type": "code",
   "execution_count": 40,
   "metadata": {
    "ExecuteTime": {
     "end_time": "2020-05-21T17:43:27.232165Z",
     "start_time": "2020-05-21T17:43:27.222158Z"
    }
   },
   "outputs": [
    {
     "data": {
      "text/plain": [
       "array([[0., 1.]])"
      ]
     },
     "execution_count": 40,
     "metadata": {},
     "output_type": "execute_result"
    }
   ],
   "source": [
    "x_new = np.array([0, 0, 0, 0])\n",
    "model_NB.predict_proba([x_new])"
   ]
  },
  {
   "cell_type": "markdown",
   "metadata": {},
   "source": [
    "# MultinomialNB"
   ]
  },
  {
   "cell_type": "code",
   "execution_count": 31,
   "metadata": {
    "ExecuteTime": {
     "end_time": "2020-05-21T17:42:29.454172Z",
     "start_time": "2020-05-21T17:42:29.444164Z"
    }
   },
   "outputs": [],
   "source": [
    "X = np.array([\n",
    "    [3, 4, 1, 2],\n",
    "    [3, 5, 1, 1],\n",
    "    [3, 3, 0, 4],\n",
    "    [3, 4, 1, 2],\n",
    "    [1, 2, 1, 4],\n",
    "    [0, 0, 5, 3],\n",
    "    [1, 2, 4, 1],\n",
    "    [1, 1, 4, 2],\n",
    "    [0, 1, 2, 5],\n",
    "    [2, 1, 2, 3]])\n",
    "y = np.array([0, 0, 0, 0, 1, 1, 1, 1, 1, 1])"
   ]
  },
  {
   "cell_type": "code",
   "execution_count": 12,
   "metadata": {
    "ExecuteTime": {
     "end_time": "2020-05-21T17:10:30.842913Z",
     "start_time": "2020-05-21T17:10:30.834906Z"
    }
   },
   "outputs": [],
   "source": [
    "from sklearn.naive_bayes import MultinomialNB\n",
    "model_mult = MultinomialNB().fit(X, y)"
   ]
  },
  {
   "cell_type": "code",
   "execution_count": 13,
   "metadata": {
    "ExecuteTime": {
     "end_time": "2020-05-21T17:11:38.979256Z",
     "start_time": "2020-05-21T17:11:38.971253Z"
    },
    "scrolled": true
   },
   "outputs": [
    {
     "data": {
      "text/plain": [
       "array([[0.38848858, 0.61151142]])"
      ]
     },
     "execution_count": 13,
     "metadata": {},
     "output_type": "execute_result"
    }
   ],
   "source": [
    "x_new = np.array([10, 10, 10, 10])\n",
    "model_mult.predict_proba([x_new])"
   ]
  },
  {
   "cell_type": "code",
   "execution_count": 17,
   "metadata": {
    "ExecuteTime": {
     "end_time": "2020-05-21T17:13:41.020847Z",
     "start_time": "2020-05-21T17:13:41.010843Z"
    }
   },
   "outputs": [
    {
     "data": {
      "text/plain": [
       "array([[0.96466932, 0.03533068]])"
      ]
     },
     "execution_count": 17,
     "metadata": {},
     "output_type": "execute_result"
    }
   ],
   "source": [
    "x_new = np.array([4, 4, 2, 2])\n",
    "model_mult.predict_proba([x_new])"
   ]
  }
 ],
 "metadata": {
  "kernelspec": {
   "display_name": "Python [conda env:cpu_env] *",
   "language": "python",
   "name": "conda-env-cpu_env-py"
  },
  "language_info": {
   "codemirror_mode": {
    "name": "ipython",
    "version": 3
   },
   "file_extension": ".py",
   "mimetype": "text/x-python",
   "name": "python",
   "nbconvert_exporter": "python",
   "pygments_lexer": "ipython3",
   "version": "3.6.9"
  },
  "toc": {
   "base_numbering": 1,
   "nav_menu": {},
   "number_sections": true,
   "sideBar": true,
   "skip_h1_title": false,
   "title_cell": "Table of Contents",
   "title_sidebar": "Contents",
   "toc_cell": false,
   "toc_position": {},
   "toc_section_display": true,
   "toc_window_display": false
  },
  "varInspector": {
   "cols": {
    "lenName": 16,
    "lenType": 16,
    "lenVar": 40
   },
   "kernels_config": {
    "python": {
     "delete_cmd_postfix": "",
     "delete_cmd_prefix": "del ",
     "library": "var_list.py",
     "varRefreshCmd": "print(var_dic_list())"
    },
    "r": {
     "delete_cmd_postfix": ") ",
     "delete_cmd_prefix": "rm(",
     "library": "var_list.r",
     "varRefreshCmd": "cat(var_dic_list()) "
    }
   },
   "types_to_exclude": [
    "module",
    "function",
    "builtin_function_or_method",
    "instance",
    "_Feature"
   ],
   "window_display": false
  }
 },
 "nbformat": 4,
 "nbformat_minor": 2
}
