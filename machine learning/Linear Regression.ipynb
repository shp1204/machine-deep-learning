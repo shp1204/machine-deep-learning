{
 "cells": [
  {
   "cell_type": "markdown",
   "metadata": {},
   "source": [
    "단순 선형 회귀 : 1,2,3,4\n",
    "다중 선형 회귀 : 5"
   ]
  },
  {
   "cell_type": "code",
   "execution_count": 1,
   "metadata": {
    "ExecuteTime": {
     "end_time": "2020-05-11T11:13:22.286255Z",
     "start_time": "2020-05-11T11:13:12.002945Z"
    },
    "collapsed": true
   },
   "outputs": [
    {
     "name": "stderr",
     "output_type": "stream",
     "text": [
      "C:\\python\\envs\\cpu_env\\lib\\site-packages\\tensorflow\\python\\framework\\dtypes.py:493: FutureWarning: Passing (type, 1) or '1type' as a synonym of type is deprecated; in a future version of numpy, it will be understood as (type, (1,)) / '(1,)type'.\n",
      "  _np_qint8 = np.dtype([(\"qint8\", np.int8, 1)])\n",
      "C:\\python\\envs\\cpu_env\\lib\\site-packages\\tensorflow\\python\\framework\\dtypes.py:494: FutureWarning: Passing (type, 1) or '1type' as a synonym of type is deprecated; in a future version of numpy, it will be understood as (type, (1,)) / '(1,)type'.\n",
      "  _np_quint8 = np.dtype([(\"quint8\", np.uint8, 1)])\n",
      "C:\\python\\envs\\cpu_env\\lib\\site-packages\\tensorflow\\python\\framework\\dtypes.py:495: FutureWarning: Passing (type, 1) or '1type' as a synonym of type is deprecated; in a future version of numpy, it will be understood as (type, (1,)) / '(1,)type'.\n",
      "  _np_qint16 = np.dtype([(\"qint16\", np.int16, 1)])\n",
      "C:\\python\\envs\\cpu_env\\lib\\site-packages\\tensorflow\\python\\framework\\dtypes.py:496: FutureWarning: Passing (type, 1) or '1type' as a synonym of type is deprecated; in a future version of numpy, it will be understood as (type, (1,)) / '(1,)type'.\n",
      "  _np_quint16 = np.dtype([(\"quint16\", np.uint16, 1)])\n",
      "C:\\python\\envs\\cpu_env\\lib\\site-packages\\tensorflow\\python\\framework\\dtypes.py:497: FutureWarning: Passing (type, 1) or '1type' as a synonym of type is deprecated; in a future version of numpy, it will be understood as (type, (1,)) / '(1,)type'.\n",
      "  _np_qint32 = np.dtype([(\"qint32\", np.int32, 1)])\n",
      "C:\\python\\envs\\cpu_env\\lib\\site-packages\\tensorflow\\python\\framework\\dtypes.py:502: FutureWarning: Passing (type, 1) or '1type' as a synonym of type is deprecated; in a future version of numpy, it will be understood as (type, (1,)) / '(1,)type'.\n",
      "  np_resource = np.dtype([(\"resource\", np.ubyte, 1)])\n"
     ]
    }
   ],
   "source": [
    "# 필요한 module load\n",
    "import tensorflow as tf"
   ]
  },
  {
   "cell_type": "markdown",
   "metadata": {},
   "source": [
    "# 머신러닝 도감 샘플코드"
   ]
  },
  {
   "cell_type": "code",
   "execution_count": 31,
   "metadata": {
    "ExecuteTime": {
     "end_time": "2020-05-11T11:40:23.390388Z",
     "start_time": "2020-05-11T11:40:23.368371Z"
    },
    "scrolled": false
   },
   "outputs": [
    {
     "name": "stdout",
     "output_type": "stream",
     "text": [
      "기울기 :  [0.50009091]\n",
      "절편 :  3.0000909090909094\n",
      "예측값 :  [3.00009091 3.50018182]\n"
     ]
    }
   ],
   "source": [
    "from sklearn.linear_model import LinearRegression\n",
    "import matplotlib.pyplot as plt\n",
    "\n",
    "X = [[10.0], [8.0], [13.0], [9.0], [11.0], [14.0], [6.0], [4.0], [12.0], [7.0], [5.0]]\n",
    "y = [8.04, 6.95, 7.58, 8.81, 8.33, 9.96, 7.24, 4.26, 10.84, 4.82, 5.68]\n",
    "\n",
    "# 모델 생성 및 학습\n",
    "model = LinearRegression()\n",
    "model.fit(X, y)\n",
    "\n",
    "# 기울기\n",
    "print('기울기 : ', model.coef_)\n",
    "# 절편\n",
    "print('절편 : ', model.intercept_)\n",
    "\n",
    "#  x=0, y=1일 때 모델의 출력 결과 예측\n",
    "y_pred = model.predict([[0], [1]])\n",
    "print('예측값 : ', y_pred)"
   ]
  },
  {
   "cell_type": "code",
   "execution_count": 32,
   "metadata": {
    "ExecuteTime": {
     "end_time": "2020-05-11T11:41:07.152490Z",
     "start_time": "2020-05-11T11:41:06.600097Z"
    }
   },
   "outputs": [
    {
     "data": {
      "image/png": "[encoded data removed]",
      "text/plain": [
       "<Figure size 432x288 with 1 Axes>"
      ]
     },
     "metadata": {
      "needs_background": "light"
     },
     "output_type": "display_data"
    }
   ],
   "source": [
    "plt.plot(X, y, 'o')\n",
    "plt.plot(X,model.predict(X))\n",
    "plt.show()"
   ]
  },
  {
   "cell_type": "markdown",
   "metadata": {},
   "source": [
    "# 간단하게 살펴보기"
   ]
  },
  {
   "cell_type": "code",
   "execution_count": 5,
   "metadata": {},
   "outputs": [
    {
     "name": "stdout",
     "output_type": "stream",
     "text": [
      "w값 : [0.46389547], b값 : [-0.97189575], cost값5.514280796051025\n",
      "w값 : [1.1317837], b값 : [-0.29957536], cost값0.012936660088598728\n",
      "w값 : [1.0640148], b값 : [-0.14552063], cost값0.0030525235924869776\n",
      "w값 : [1.0310955], b값 : [-0.0706877], cost값0.0007202760316431522\n",
      "w값 : [1.0151048], b값 : [-0.03433673], cost값0.00016995304031297565\n",
      "w값 : [1.0073373], b값 : [-0.01667938], cost값4.010238262708299e-05\n",
      "w값 : [1.0035642], b값 : [-0.00810233], cost값9.462599336984567e-06\n",
      "w값 : [1.0017316], b값 : [-0.00393624], cost값2.2334490950015606e-06\n",
      "w값 : [1.0008419], b값 : [-0.00191306], cost값5.275949774841138e-07\n",
      "w값 : [1.0004096], b값 : [-0.00093059], cost값1.2482418298986886e-07\n",
      "[200.03963]\n"
     ]
    }
   ],
   "source": [
    "# data set 설정\n",
    "x_data = [1,2,3]\n",
    "y_data = [1,2,3]\n",
    "\n",
    "# placeholder\n",
    "x = tf.placeholder(dtype = tf.float32)\n",
    "y = tf.placeholder(dtype = tf.float32)\n",
    "\n",
    "# weight, bias\n",
    "# 한 개의 값만 예측하기 때문에 random_normal(한개!)\n",
    "# random_normal : 랜덤으로 변수 한 개를 지정해준다\n",
    "W = tf.Variable(tf.random_normal([1]), name = 'weight')\n",
    "b = tf.Variable(tf.random_normal([1]), name = 'bias')\n",
    "\n",
    "# hypothesis\n",
    "# 모델에 적용할 수식을 설정한다\n",
    "# 단순선형회귀이므로 다음의 수식을 사용한다.\n",
    "H = W * x + b\n",
    "\n",
    "# cost function\n",
    "# H에서 y값을 뺀 뒤, 그 값을 제곱하여 평균을 구하자\n",
    "cost = tf.reduce_mean(tf.square(H-y))\n",
    "\n",
    "# train node 생성\n",
    "# GradientDescentOptimizer : 경사하강법을 이용해 좋은 w값으로 이동한다\n",
    "# 하강 시, 0.01의 값을 곱하면서 !\n",
    "# 좋은 w값은 어떻게 구할까 ? cost가 최소값일 때 좋은 w값이구나 !\n",
    "optimizer = tf.train.GradientDescentOptimizer(learning_rate = 0.01)\n",
    "train = optimizer.minimize(cost)\n",
    "\n",
    "# runner session\n",
    "# global_variables_initializer() : 학습 전에 항상 초기화를 해주자!\n",
    "sess = tf.Session()\n",
    "sess.run(tf.global_variables_initializer())\n",
    "\n",
    "# learning\n",
    "# 3000번 학습하자\n",
    "for step in range(3000):\n",
    "    _,w_val,cost_val,b_val = sess.run([train,W,cost,b],\n",
    "                            # 내가 학습시킬 데이터\n",
    "                            feed_dict={\n",
    "                                   x : x_data,\n",
    "                                   y : y_data\n",
    "                               })\n",
    "    # 학습이 잘 되는지 확인용으로 print를 해주었다.\n",
    "    if step % 300 == 0:\n",
    "        print(\"w값 : {}, b값 : {}, cost값{}\".format(w_val, b_val, cost_val))\n",
    "        \n",
    "# prediction\n",
    "# 200 값을 넣으면 어떤 결과가 출력될까?\n",
    "print(sess.run(H, feed_dict={ x : 200 }))\n"
   ]
  },
  {
   "cell_type": "markdown",
   "metadata": {},
   "source": [
    "# Iris 단순선형회귀\n",
    "\n",
    "\n",
    "\n",
    "\n",
    "* 더 공부해보기 \n",
    "\n",
    "우아한 형제들 : https://woowabros.github.io/study/2018/08/01/linear_regression_qr.html"
   ]
  },
  {
   "cell_type": "markdown",
   "metadata": {},
   "source": [
    "## 문제 : 꽃받침의 너비를 예측해보자 !"
   ]
  },
  {
   "cell_type": "markdown",
   "metadata": {},
   "source": [
    "### data set\n",
    "----------------------\n",
    "species : 붓꽃의 종\n",
    "\n",
    "sepal.width : 꽃받침의 너비\n",
    "\n",
    "sepal.length : 꽃받침의 길이\n",
    "\n",
    "petal.width : 꽃잎의 너비\n",
    "\n",
    "petal.length : 꽃잎의 길이"
   ]
  },
  {
   "cell_type": "code",
   "execution_count": 31,
   "metadata": {},
   "outputs": [],
   "source": [
    "import pandas as pd\n",
    "import numpy as np\n",
    "import tensorflow as tf\n",
    "\n",
    "from sklearn.datasets import load_iris\n",
    "from sklearn.linear_model import LinearRegression\n",
    "from sklearn.model_selection import train_test_split # train, test set 생성\n",
    "from sklearn.metrics import mean_squared_error # mse 평균제곱오차로 모델 평가"
   ]
  },
  {
   "cell_type": "code",
   "execution_count": 36,
   "metadata": {
    "scrolled": true
   },
   "outputs": [
    {
     "name": "stdout",
     "output_type": "stream",
     "text": [
      "<class 'pandas.core.frame.DataFrame'>\n",
      "RangeIndex: 150 entries, 0 to 149\n",
      "Data columns (total 5 columns):\n",
      "Sepal.Length    150 non-null float64\n",
      "Sepal.Width     150 non-null float64\n",
      "Petal.Length    150 non-null float64\n",
      "Petal.Width     150 non-null float64\n",
      "Species         150 non-null object\n",
      "dtypes: float64(4), object(1)\n",
      "memory usage: 6.0+ KB\n"
     ]
    }
   ],
   "source": [
    "iris = pd.read_csv('./data/iris.csv')\n",
    "# 데이터를 먼저 살펴보자\n",
    "iris.info()"
   ]
  },
  {
   "cell_type": "code",
   "execution_count": 37,
   "metadata": {},
   "outputs": [
    {
     "data": {
      "text/plain": [
       "['Sepal.Length', 'Sepal.Width', 'Petal.Length', 'Petal.Width', 'Species']"
      ]
     },
     "execution_count": 37,
     "metadata": {},
     "output_type": "execute_result"
    }
   ],
   "source": [
    "# column명 저장\n",
    "cols = list(iris.columns)\n",
    "cols"
   ]
  },
  {
   "cell_type": "code",
   "execution_count": 38,
   "metadata": {},
   "outputs": [],
   "source": [
    "# 4가지 속성에 따라 꽃의 길이를 예측해보자\n",
    "x_cols = cols[1:4]\n",
    "y_col = cols[0]"
   ]
  },
  {
   "cell_type": "code",
   "execution_count": 39,
   "metadata": {},
   "outputs": [],
   "source": [
    "# 분석에 불필요한 칼럼 제외한 나머지 데이터\n",
    "iris_df = iris[cols[:4]]"
   ]
  },
  {
   "cell_type": "code",
   "execution_count": 40,
   "metadata": {},
   "outputs": [],
   "source": [
    "# train, test set을 7:3으로 나눠주자\n",
    "iris_train, iris_test = train_test_split(iris_df, test_size = 0.3)"
   ]
  },
  {
   "cell_type": "code",
   "execution_count": 41,
   "metadata": {},
   "outputs": [
    {
     "name": "stdout",
     "output_type": "stream",
     "text": [
      "(105, 4)\n",
      "(45, 4)\n"
     ]
    }
   ],
   "source": [
    "print(iris_train.shape)\n",
    "print(iris_test.shape)"
   ]
  },
  {
   "cell_type": "code",
   "execution_count": 45,
   "metadata": {},
   "outputs": [
    {
     "data": {
      "text/plain": [
       "1.8778275950882772"
      ]
     },
     "execution_count": 45,
     "metadata": {},
     "output_type": "execute_result"
    }
   ],
   "source": [
    "# 선형회귀모델을 생성하자\n",
    "model = LinearRegression()\n",
    "model.fit(X=iris_train[x_cols],\n",
    "         y = iris_train[y_col])\n",
    "# 기울기\n",
    "model.coef_\n",
    "# 절편\n",
    "model.intercept_"
   ]
  },
  {
   "cell_type": "code",
   "execution_count": 46,
   "metadata": {},
   "outputs": [
    {
     "data": {
      "text/plain": [
       "45"
      ]
     },
     "execution_count": 46,
     "metadata": {},
     "output_type": "execute_result"
    }
   ],
   "source": [
    "# test set으로 모델을 예측하자\n",
    "y_pred = model.predict(X=iris_test[x_cols])\n",
    "len(y_pred)"
   ]
  },
  {
   "cell_type": "code",
   "execution_count": 47,
   "metadata": {},
   "outputs": [
    {
     "data": {
      "text/plain": [
       "45"
      ]
     },
     "execution_count": 47,
     "metadata": {},
     "output_type": "execute_result"
    }
   ],
   "source": [
    "Y = iris_test[y_col]\n",
    "len(Y)"
   ]
  },
  {
   "cell_type": "code",
   "execution_count": 48,
   "metadata": {},
   "outputs": [
    {
     "name": "stdout",
     "output_type": "stream",
     "text": [
      "mse =  0.11777307535103508\n"
     ]
    }
   ],
   "source": [
    "# MSE로 평가해보자\n",
    "# mse의 값이 작을 수록 모델의 예측력이 높은 것이다 !\n",
    "mse = mean_squared_error(y_true = Y, y_pred = y_pred)\n",
    "print('mse = ', mse)"
   ]
  },
  {
   "cell_type": "code",
   "execution_count": 51,
   "metadata": {},
   "outputs": [
    {
     "name": "stdout",
     "output_type": "stream",
     "text": [
      "<class 'pandas.core.frame.DataFrame'>\n",
      "Int64Index: 77 entries, 0 to 149\n",
      "Data columns (total 2 columns):\n",
      "pred    45 non-null float64\n",
      "Y       45 non-null float64\n",
      "dtypes: float64(2)\n",
      "memory usage: 1.8 KB\n"
     ]
    },
    {
     "data": {
      "text/plain": [
       "-0.4045573223230026"
      ]
     },
     "execution_count": 51,
     "metadata": {},
     "output_type": "execute_result"
    }
   ],
   "source": [
    "# 상관계수로 평가해보자\n",
    "# series로 먼저 바꾼다\n",
    "y_pred = pd.Series(y_pred)\n",
    "\n",
    "# 상관관계를 구하자\n",
    "cor = Y.corr(y_pred)\n",
    "\n",
    "# 예측치와 관측치를 이용해 df를 만들어보자\n",
    "df = pd.DataFrame({'pred' : y_pred, 'Y':Y})\n",
    "df.info()\n",
    "\n",
    "\n",
    "# cor 의 값이 클 수록 모델의 예측력이 높은 것이다.\n",
    "cor = df['pred'].corr(df['Y'])\n",
    "cor"
   ]
  },
  {
   "cell_type": "markdown",
   "metadata": {},
   "source": [
    "# 3. ozone data 이용"
   ]
  },
  {
   "cell_type": "code",
   "execution_count": 1,
   "metadata": {
    "ExecuteTime": {
     "end_time": "2020-05-08T19:41:16.077017Z",
     "start_time": "2020-05-08T19:40:54.377518Z"
    }
   },
   "outputs": [
    {
     "name": "stderr",
     "output_type": "stream",
     "text": [
      "C:\\python\\envs\\cpu_env\\lib\\site-packages\\tensorflow\\python\\framework\\dtypes.py:493: FutureWarning: Passing (type, 1) or '1type' as a synonym of type is deprecated; in a future version of numpy, it will be understood as (type, (1,)) / '(1,)type'.\n",
      "  _np_qint8 = np.dtype([(\"qint8\", np.int8, 1)])\n",
      "C:\\python\\envs\\cpu_env\\lib\\site-packages\\tensorflow\\python\\framework\\dtypes.py:494: FutureWarning: Passing (type, 1) or '1type' as a synonym of type is deprecated; in a future version of numpy, it will be understood as (type, (1,)) / '(1,)type'.\n",
      "  _np_quint8 = np.dtype([(\"quint8\", np.uint8, 1)])\n",
      "C:\\python\\envs\\cpu_env\\lib\\site-packages\\tensorflow\\python\\framework\\dtypes.py:495: FutureWarning: Passing (type, 1) or '1type' as a synonym of type is deprecated; in a future version of numpy, it will be understood as (type, (1,)) / '(1,)type'.\n",
      "  _np_qint16 = np.dtype([(\"qint16\", np.int16, 1)])\n",
      "C:\\python\\envs\\cpu_env\\lib\\site-packages\\tensorflow\\python\\framework\\dtypes.py:496: FutureWarning: Passing (type, 1) or '1type' as a synonym of type is deprecated; in a future version of numpy, it will be understood as (type, (1,)) / '(1,)type'.\n",
      "  _np_quint16 = np.dtype([(\"quint16\", np.uint16, 1)])\n",
      "C:\\python\\envs\\cpu_env\\lib\\site-packages\\tensorflow\\python\\framework\\dtypes.py:497: FutureWarning: Passing (type, 1) or '1type' as a synonym of type is deprecated; in a future version of numpy, it will be understood as (type, (1,)) / '(1,)type'.\n",
      "  _np_qint32 = np.dtype([(\"qint32\", np.int32, 1)])\n",
      "C:\\python\\envs\\cpu_env\\lib\\site-packages\\tensorflow\\python\\framework\\dtypes.py:502: FutureWarning: Passing (type, 1) or '1type' as a synonym of type is deprecated; in a future version of numpy, it will be understood as (type, (1,)) / '(1,)type'.\n",
      "  np_resource = np.dtype([(\"resource\", np.ubyte, 1)])\n"
     ]
    }
   ],
   "source": [
    "import tensorflow as tf\n",
    "import numpy as np\n",
    "import pandas as pd\n",
    "import matplotlib.pyplot as plt"
   ]
  },
  {
   "cell_type": "code",
   "execution_count": 8,
   "metadata": {
    "ExecuteTime": {
     "end_time": "2020-05-08T19:45:31.835455Z",
     "start_time": "2020-05-08T19:45:31.807433Z"
    }
   },
   "outputs": [
    {
     "name": "stdout",
     "output_type": "stream",
     "text": [
      "읽어들인 데이터의 shape : (153, 6)\n"
     ]
    }
   ],
   "source": [
    "df = pd.read_csv(\"./data/ozone.csv\")\n",
    "print(\"읽어들인 데이터의 shape : {}\".format(df.shape)) \n",
    "\n",
    "# 사용할 열만 가져오자\n",
    "df = df[[\"Ozone\",\"Temp\"]]"
   ]
  },
  {
   "cell_type": "code",
   "execution_count": 10,
   "metadata": {
    "ExecuteTime": {
     "end_time": "2020-05-08T19:45:39.234877Z",
     "start_time": "2020-05-08T19:45:39.214867Z"
    }
   },
   "outputs": [
    {
     "name": "stdout",
     "output_type": "stream",
     "text": [
      "결측치를 제거한 후 남은데이터 : (116, 2)\n"
     ]
    }
   ],
   "source": [
    "# 결측치를 제거하자\n",
    "df = df.dropna(how=\"any\", inplace = False)\n",
    "print(\"결측치를 제거한 후 남은데이터 : {}\".format(df.shape)) "
   ]
  },
  {
   "cell_type": "code",
   "execution_count": 14,
   "metadata": {
    "ExecuteTime": {
     "end_time": "2020-05-08T19:45:55.164130Z",
     "start_time": "2020-05-08T19:45:54.592047Z"
    },
    "scrolled": true
   },
   "outputs": [
    {
     "data": {
      "text/plain": [
       "{'whiskers': [<matplotlib.lines.Line2D at 0x3b1ec35898>,\n",
       "  <matplotlib.lines.Line2D at 0x3b1ec35c50>],\n",
       " 'caps': [<matplotlib.lines.Line2D at 0x3b1ec35f98>,\n",
       "  <matplotlib.lines.Line2D at 0x3b1ec40320>],\n",
       " 'boxes': [<matplotlib.lines.Line2D at 0x3b1ec35748>],\n",
       " 'medians': [<matplotlib.lines.Line2D at 0x3b1ec40668>],\n",
       " 'fliers': [<matplotlib.lines.Line2D at 0x3b1ec409b0>],\n",
       " 'means': []}"
      ]
     },
     "execution_count": 14,
     "metadata": {},
     "output_type": "execute_result"
    },
    {
     "data": {
      "image/png": "[encoded data removed]",
      "text/plain": [
       "<Figure size 432x288 with 1 Axes>"
      ]
     },
     "metadata": {
      "needs_background": "light"
     },
     "output_type": "display_data"
    }
   ],
   "source": [
    "# 이상치 boxplot으로 확인\n",
    "plt.boxplot(df[\"Temp\"])"
   ]
  },
  {
   "cell_type": "code",
   "execution_count": 15,
   "metadata": {
    "ExecuteTime": {
     "end_time": "2020-05-08T19:45:58.143276Z",
     "start_time": "2020-05-08T19:45:57.595245Z"
    }
   },
   "outputs": [
    {
     "data": {
      "text/plain": [
       "{'whiskers': [<matplotlib.lines.Line2D at 0x3b1eca3080>,\n",
       "  <matplotlib.lines.Line2D at 0x3b1eca3390>],\n",
       " 'caps': [<matplotlib.lines.Line2D at 0x3b1eca36d8>,\n",
       "  <matplotlib.lines.Line2D at 0x3b1eca3a20>],\n",
       " 'boxes': [<matplotlib.lines.Line2D at 0x3b1ec97ef0>],\n",
       " 'medians': [<matplotlib.lines.Line2D at 0x3b1eca3d68>],\n",
       " 'fliers': [<matplotlib.lines.Line2D at 0x3b1ecb10f0>],\n",
       " 'means': []}"
      ]
     },
     "execution_count": 15,
     "metadata": {},
     "output_type": "execute_result"
    },
    {
     "data": {
      "image/png": "[encoded data removed]",
      "text/plain": [
       "<Figure size 432x288 with 1 Axes>"
      ]
     },
     "metadata": {
      "needs_background": "light"
     },
     "output_type": "display_data"
    }
   ],
   "source": [
    "plt.boxplot(df[\"Ozone\"])"
   ]
  },
  {
   "cell_type": "code",
   "execution_count": 17,
   "metadata": {
    "ExecuteTime": {
     "end_time": "2020-05-08T19:47:17.867416Z",
     "start_time": "2020-05-08T19:47:17.819409Z"
    }
   },
   "outputs": [
    {
     "name": "stdout",
     "output_type": "stream",
     "text": [
      "이상치를 제거한 후 남은 데이터 : (114, 2)\n"
     ]
    }
   ],
   "source": [
    "# 1,3 사분위를 구해보자\n",
    "q1 = np.percentile(df[\"Ozone\"],25)\n",
    "q3 = np.percentile(df[\"Ozone\"],75)\n",
    "# 동시에 구하는 방법\n",
    "q1,q3 = np.percentile(df[\"Ozone\"],[25,75])\n",
    "\n",
    "# irq 구하기 \n",
    "irq = q3 - q1\n",
    "\n",
    "# 이상치 범위 구하기\n",
    "upper = q3 + irq * 1.5\n",
    "lower = q1 - irq * 1.5\n",
    "\n",
    "# boolean indexing의 mask 만들기 \n",
    "mask_upper = df[\"Ozone\"] > upper\n",
    "mask_lower = df[\"Ozone\"] < lower\n",
    "\n",
    "# mask를 제외한 데이터를 가져오자\n",
    "df = df.loc[~(mask_upper | mask_lower)]\n",
    "print(\"이상치를 제거한 후 남은 데이터 : {}\".format(df.shape))"
   ]
  },
  {
   "cell_type": "code",
   "execution_count": 18,
   "metadata": {
    "ExecuteTime": {
     "end_time": "2020-05-08T19:47:38.270274Z",
     "start_time": "2020-05-08T19:47:37.585731Z"
    }
   },
   "outputs": [
    {
     "data": {
      "text/plain": [
       "<matplotlib.collections.PathCollection at 0x3b1ed27390>"
      ]
     },
     "execution_count": 18,
     "metadata": {},
     "output_type": "execute_result"
    },
    {
     "data": {
      "image/png": "[encoded data removed]",
      "text/plain": [
       "<Figure size 432x288 with 1 Axes>"
      ]
     },
     "metadata": {
      "needs_background": "light"
     },
     "output_type": "display_data"
    }
   ],
   "source": [
    "# 온도와 오존의 경향성 살펴보기\n",
    "plt.scatter(df[\"Temp\"],df[\"Ozone\"])"
   ]
  },
  {
   "cell_type": "code",
   "execution_count": 20,
   "metadata": {
    "ExecuteTime": {
     "end_time": "2020-05-08T19:48:20.770527Z",
     "start_time": "2020-05-08T19:48:20.076690Z"
    }
   },
   "outputs": [
    {
     "data": {
      "text/plain": [
       "<matplotlib.collections.PathCollection at 0x3b1ed9bfd0>"
      ]
     },
     "execution_count": 20,
     "metadata": {},
     "output_type": "execute_result"
    },
    {
     "data": {
      "image/png": "[encoded data removed]",
      "text/plain": [
       "<Figure size 432x288 with 1 Axes>"
      ]
     },
     "metadata": {
      "needs_background": "light"
     },
     "output_type": "display_data"
    }
   ],
   "source": [
    "# 정규화\n",
    "df[\"Temp_Norm\"] = (df[\"Temp\"]-df[\"Temp\"].min()) / (df[\"Temp\"].max()-df[\"Temp\"].min())\n",
    "df[\"Ozone_Norm\"] = (df[\"Ozone\"]-df[\"Ozone\"].min()) / (df[\"Ozone\"].max()-df[\"Ozone\"].min())\n",
    "\n",
    "# 정규화 후 경향성 살펴보기\n",
    "plt.scatter(df[\"Temp_Norm\"],df[\"Ozone_Norm\"])"
   ]
  },
  {
   "cell_type": "code",
   "execution_count": 22,
   "metadata": {
    "ExecuteTime": {
     "end_time": "2020-05-08T19:51:03.714553Z",
     "start_time": "2020-05-08T19:50:57.512832Z"
    }
   },
   "outputs": [
    {
     "name": "stdout",
     "output_type": "stream",
     "text": [
      "cost값은 : 6.8696184158325195\n",
      "cost값은 : 0.026254111900925636\n",
      "cost값은 : 0.026140844449400902\n",
      "cost값은 : 0.026140285655856133\n",
      "cost값은 : 0.026140281930565834\n",
      "cost값은 : 0.026140278205275536\n",
      "cost값은 : 0.026140278205275536\n",
      "cost값은 : 0.026140278205275536\n",
      "cost값은 : 0.026140278205275536\n",
      "cost값은 : 0.026140278205275536\n",
      "[62.707546]\n"
     ]
    }
   ],
   "source": [
    "# 방법 1 ) data set 그대로 사용\n",
    "# data set 설정\n",
    "x_data = df[\"Temp_Norm\"]  \n",
    "y_data = df[\"Ozone_Norm\"]\n",
    "\n",
    "# placeholder\n",
    "x = tf.placeholder(dtype=tf.float32)\n",
    "y = tf.placeholder(dtype=tf.float32)\n",
    "\n",
    "# Weight, bias\n",
    "W = tf.Variable(tf.random_normal([1]), name=\"Weight\")\n",
    "b = tf.Variable(tf.random_normal([1]), name=\"bias\")\n",
    "\n",
    "# Hypothesis\n",
    "H = W * x + b\n",
    "\n",
    "# Cost function (Loss function)\n",
    "cost = tf.reduce_mean(tf.square(H-y))\n",
    "\n",
    "# train node 생성\n",
    "optimizer = tf.train.GradientDescentOptimizer(learning_rate = 0.1)\n",
    "train = optimizer.minimize(cost)\n",
    "\n",
    "# runner(session) 필요\n",
    "sess = tf.Session()\n",
    "sess.run(tf.global_variables_initializer())\n",
    "\n",
    "# learning, 학습\n",
    "for step in range(3000):\n",
    "    _,cost_val = sess.run([train,cost],\n",
    "                            feed_dict={\n",
    "                                   x : x_data,\n",
    "                                   y : y_data\n",
    "                               })\n",
    "    \n",
    "    if step % 300 == 0:\n",
    "        print(\"cost값은 : {}\".format(cost_val))\n",
    "\n",
    "# 예측\n",
    "print(sess.run(H, feed_dict = {x : 81}))"
   ]
  },
  {
   "cell_type": "code",
   "execution_count": 23,
   "metadata": {
    "ExecuteTime": {
     "end_time": "2020-05-08T19:51:04.766664Z",
     "start_time": "2020-05-08T19:51:04.046578Z"
    }
   },
   "outputs": [
    {
     "data": {
      "text/plain": [
       "[<matplotlib.lines.Line2D at 0x3b1edcc7b8>]"
      ]
     },
     "execution_count": 23,
     "metadata": {},
     "output_type": "execute_result"
    },
    {
     "data": {
      "image/png": "[encoded data removed]",
      "text/plain": [
       "<Figure size 432x288 with 1 Axes>"
      ]
     },
     "metadata": {
      "needs_background": "light"
     },
     "output_type": "display_data"
    }
   ],
   "source": [
    "plt.scatter(df[\"Temp_Norm\"],df[\"Ozone_Norm\"])\n",
    "plt.plot(df[\"Temp_Norm\"], df[\"Temp_Norm\"] * sess.run(W) + sess.run(b))"
   ]
  },
  {
   "cell_type": "code",
   "execution_count": 26,
   "metadata": {
    "ExecuteTime": {
     "end_time": "2020-05-08T19:52:19.510497Z",
     "start_time": "2020-05-08T19:52:12.808853Z"
    }
   },
   "outputs": [
    {
     "name": "stdout",
     "output_type": "stream",
     "text": [
      "0.6\n",
      "[0.38626918]\n",
      "[47.73857]\n",
      "cost값은 : 0.6687242984771729\n",
      "cost값은 : 0.026747874915599823\n",
      "cost값은 : 0.026143288239836693\n",
      "cost값은 : 0.02614029496908188\n",
      "cost값은 : 0.026140278205275536\n",
      "cost값은 : 0.026140278205275536\n",
      "cost값은 : 0.026140278205275536\n",
      "cost값은 : 0.026140278205275536\n",
      "cost값은 : 0.026140278205275536\n",
      "cost값은 : 0.026140278205275536\n",
      "[62.707546]\n"
     ]
    }
   ],
   "source": [
    "# 방법 2 ) 기온 => 기온` => 오존` => 오존 \n",
    "\n",
    "# 기온 => 기온` \n",
    "tmp = ( 81 - df[\"Temp\"].min()) / (df[\"Temp\"].max() - df[\"Temp\"].min())\n",
    "print(tmp)\n",
    "\n",
    "# 기온` => 오존` \n",
    "result_norm = sess.run(H, feed_dict = {x : tmp})\n",
    "print(result_norm)\n",
    "\n",
    "# 오존` => 오존 \n",
    "result = result_norm * (df[\"Ozone\"].max()-df[\"Ozone\"].min()) + df[\"Ozone\"].min()\n",
    "print(result)\n",
    "\n",
    "# placeholder\n",
    "x = tf.placeholder(dtype=tf.float32)\n",
    "y = tf.placeholder(dtype=tf.float32)\n",
    "\n",
    "# Weight, bias\n",
    "W = tf.Variable(tf.random_normal([1]), name=\"Weight\")\n",
    "b = tf.Variable(tf.random_normal([1]), name=\"bias\")\n",
    "\n",
    "# Hypothesis\n",
    "H = W * x + b\n",
    "\n",
    "# Cost function (Loss function)\n",
    "cost = tf.reduce_mean(tf.square(H-y))\n",
    "\n",
    "# train node 생성\n",
    "optimizer = tf.train.GradientDescentOptimizer(learning_rate = 0.1)\n",
    "train = optimizer.minimize(cost)\n",
    "\n",
    "# runner(session) 필요\n",
    "sess = tf.Session()\n",
    "sess.run(tf.global_variables_initializer())\n",
    "\n",
    "# learning, 학습\n",
    "for step in range(3000):\n",
    "    _,cost_val = sess.run([train,cost],\n",
    "                            feed_dict={\n",
    "                                   x : x_data,\n",
    "                                   y : y_data\n",
    "                               })\n",
    "    \n",
    "    if step % 300 == 0:\n",
    "        print(\"cost값은 : {}\".format(cost_val))\n",
    "\n",
    "# 예측\n",
    "print(sess.run(H, feed_dict = {x : 81}))"
   ]
  },
  {
   "cell_type": "markdown",
   "metadata": {},
   "source": [
    "# 다중 선형회귀"
   ]
  },
  {
   "cell_type": "code",
   "execution_count": 1,
   "metadata": {
    "ExecuteTime": {
     "end_time": "2020-05-13T09:04:51.849838Z",
     "start_time": "2020-05-13T09:04:38.564400Z"
    },
    "collapsed": true
   },
   "outputs": [
    {
     "name": "stderr",
     "output_type": "stream",
     "text": [
      "C:\\python\\envs\\cpu_env\\lib\\site-packages\\tensorflow\\python\\framework\\dtypes.py:493: FutureWarning: Passing (type, 1) or '1type' as a synonym of type is deprecated; in a future version of numpy, it will be understood as (type, (1,)) / '(1,)type'.\n",
      "  _np_qint8 = np.dtype([(\"qint8\", np.int8, 1)])\n",
      "C:\\python\\envs\\cpu_env\\lib\\site-packages\\tensorflow\\python\\framework\\dtypes.py:494: FutureWarning: Passing (type, 1) or '1type' as a synonym of type is deprecated; in a future version of numpy, it will be understood as (type, (1,)) / '(1,)type'.\n",
      "  _np_quint8 = np.dtype([(\"quint8\", np.uint8, 1)])\n",
      "C:\\python\\envs\\cpu_env\\lib\\site-packages\\tensorflow\\python\\framework\\dtypes.py:495: FutureWarning: Passing (type, 1) or '1type' as a synonym of type is deprecated; in a future version of numpy, it will be understood as (type, (1,)) / '(1,)type'.\n",
      "  _np_qint16 = np.dtype([(\"qint16\", np.int16, 1)])\n",
      "C:\\python\\envs\\cpu_env\\lib\\site-packages\\tensorflow\\python\\framework\\dtypes.py:496: FutureWarning: Passing (type, 1) or '1type' as a synonym of type is deprecated; in a future version of numpy, it will be understood as (type, (1,)) / '(1,)type'.\n",
      "  _np_quint16 = np.dtype([(\"quint16\", np.uint16, 1)])\n",
      "C:\\python\\envs\\cpu_env\\lib\\site-packages\\tensorflow\\python\\framework\\dtypes.py:497: FutureWarning: Passing (type, 1) or '1type' as a synonym of type is deprecated; in a future version of numpy, it will be understood as (type, (1,)) / '(1,)type'.\n",
      "  _np_qint32 = np.dtype([(\"qint32\", np.int32, 1)])\n",
      "C:\\python\\envs\\cpu_env\\lib\\site-packages\\tensorflow\\python\\framework\\dtypes.py:502: FutureWarning: Passing (type, 1) or '1type' as a synonym of type is deprecated; in a future version of numpy, it will be understood as (type, (1,)) / '(1,)type'.\n",
      "  np_resource = np.dtype([(\"resource\", np.ubyte, 1)])\n"
     ]
    }
   ],
   "source": [
    "import tensorflow as tf\n",
    "import numpy as np\n",
    "import pandas as pd\n",
    "import matplotlib.pyplot as plt\n",
    "\n",
    "x_data = [[73,80,75],\n",
    "          [93,88,93],\n",
    "          [89,91,90],\n",
    "          [96,98,100],\n",
    "          [73,66,70]]\n",
    "y_data = [[152],[185],[180],[196],[142]]"
   ]
  },
  {
   "cell_type": "code",
   "execution_count": 2,
   "metadata": {
    "ExecuteTime": {
     "end_time": "2020-05-13T09:08:08.291453Z",
     "start_time": "2020-05-13T09:07:43.427781Z"
    }
   },
   "outputs": [
    {
     "name": "stdout",
     "output_type": "stream",
     "text": [
      "cost값은 : 1362.474853515625\n",
      "cost값은 : 113.27144622802734\n",
      "cost값은 : 24.22825050354004\n",
      "cost값은 : 17.8582763671875\n",
      "cost값은 : 17.380420684814453\n",
      "cost값은 : 17.322494506835938\n",
      "cost값은 : 17.292247772216797\n",
      "cost값은 : 17.266658782958984\n",
      "cost값은 : 17.241649627685547\n",
      "cost값은 : 17.216651916503906\n",
      "[[113.24003]]\n"
     ]
    }
   ],
   "source": [
    "# plceholder\n",
    "X = tf.placeholder(shape = [None,3], dtype = tf.float32)\n",
    "Y = tf.placeholder(shape = [None,1], dtype = tf.float32)\n",
    "\n",
    "# weight, bias\n",
    "# x가 3열이기 때문에 [3,1]\n",
    "W = tf.Variable(tf.random_normal([3,1]),name=\"Weight\")\n",
    "b = tf.Variable(tf.random_normal([1]), name=\"bias\")\n",
    "\n",
    "# Hypothesis\n",
    "# matmul : 행렬계산\n",
    "H = tf.matmul(X,W) + b\n",
    "\n",
    "# cost function\n",
    "cost = tf.reduce_mean(tf.square(H-Y))\n",
    "\n",
    "# train node 생성\n",
    "optimizer = tf.train.GradientDescentOptimizer(learning_rate = 0.00000001)\n",
    "train = optimizer.minimize(cost)\n",
    "\n",
    "# runner session 필요\n",
    "sess = tf.Session()\n",
    "sess.run(tf.global_variables_initializer()) # 그래프 초기화\n",
    "\n",
    "# learning\n",
    "for step in range(30000):\n",
    "    _,cost_val = sess.run([train,cost],\n",
    "                         feed_dict={\n",
    "                             X : x_data,\n",
    "                             Y : y_data\n",
    "                         })\n",
    "    if step % 3000 == 0:\n",
    "        print(\"cost값은 : {}\".format(cost_val))\n",
    "        \n",
    "# prediction\n",
    "print(sess.run(H, feed_dict = {X : [[80,90,50], ] }))"
   ]
  },
  {
   "cell_type": "markdown",
   "metadata": {},
   "source": [
    "# 오존 데이터 활용 다중선형회귀"
   ]
  },
  {
   "cell_type": "code",
   "execution_count": 3,
   "metadata": {
    "ExecuteTime": {
     "end_time": "2020-05-13T09:14:19.735440Z",
     "start_time": "2020-05-13T09:14:15.847680Z"
    }
   },
   "outputs": [],
   "source": [
    "from sklearn import linear_model\n",
    "import numpy as np\n",
    "import pandas as pd"
   ]
  },
  {
   "cell_type": "code",
   "execution_count": 14,
   "metadata": {
    "ExecuteTime": {
     "end_time": "2020-05-13T09:31:24.040421Z",
     "start_time": "2020-05-13T09:31:24.024410Z"
    }
   },
   "outputs": [],
   "source": [
    "df = pd.read_csv('C:/Users/박소희/Desktop/machine-deep-learning/machine learning/data/ozone.csv')\n",
    "df = df[['Ozone','Solar.R','Wind','Temp']]"
   ]
  },
  {
   "cell_type": "code",
   "execution_count": 15,
   "metadata": {
    "ExecuteTime": {
     "end_time": "2020-05-13T09:31:26.383088Z",
     "start_time": "2020-05-13T09:31:26.373081Z"
    },
    "scrolled": true
   },
   "outputs": [],
   "source": [
    "# 결측치 제거\n",
    "df.isnull().sum()\n",
    "df = df.dropna(how='any', inplace=False)"
   ]
  },
  {
   "cell_type": "markdown",
   "metadata": {
    "heading_collapsed": true
   },
   "source": [
    "## 이상치제거 boxplot"
   ]
  },
  {
   "cell_type": "code",
   "execution_count": 19,
   "metadata": {
    "ExecuteTime": {
     "end_time": "2020-05-13T09:31:56.164255Z",
     "start_time": "2020-05-13T09:31:55.917076Z"
    },
    "hidden": true
   },
   "outputs": [
    {
     "data": {
      "text/plain": [
       "{'whiskers': [<matplotlib.lines.Line2D at 0xf90a4c3fd0>,\n",
       "  <matplotlib.lines.Line2D at 0xf90a4d23c8>],\n",
       " 'caps': [<matplotlib.lines.Line2D at 0xf90a4d2710>,\n",
       "  <matplotlib.lines.Line2D at 0xf90a4d2a58>],\n",
       " 'boxes': [<matplotlib.lines.Line2D at 0xf90a4c3e80>],\n",
       " 'medians': [<matplotlib.lines.Line2D at 0xf90a4d2da0>],\n",
       " 'fliers': [<matplotlib.lines.Line2D at 0xf90a4dc128>],\n",
       " 'means': []}"
      ]
     },
     "execution_count": 19,
     "metadata": {},
     "output_type": "execute_result"
    },
    {
     "data": {
      "image/png": "[encoded data removed]",
      "text/plain": [
       "<Figure size 432x288 with 1 Axes>"
      ]
     },
     "metadata": {
      "needs_background": "light"
     },
     "output_type": "display_data"
    }
   ],
   "source": [
    "# 이상치 확인 \n",
    "plt.boxplot(df[\"Temp\"])"
   ]
  },
  {
   "cell_type": "code",
   "execution_count": 17,
   "metadata": {
    "ExecuteTime": {
     "end_time": "2020-05-13T09:31:33.975483Z",
     "start_time": "2020-05-13T09:31:33.709297Z"
    },
    "hidden": true,
    "scrolled": true
   },
   "outputs": [
    {
     "data": {
      "text/plain": [
       "{'whiskers': [<matplotlib.lines.Line2D at 0xf90a3e7b00>,\n",
       "  <matplotlib.lines.Line2D at 0xf90a3e7eb8>],\n",
       " 'caps': [<matplotlib.lines.Line2D at 0xf90a3f2240>,\n",
       "  <matplotlib.lines.Line2D at 0xf90a3f2588>],\n",
       " 'boxes': [<matplotlib.lines.Line2D at 0xf90a3e79b0>],\n",
       " 'medians': [<matplotlib.lines.Line2D at 0xf90a3f28d0>],\n",
       " 'fliers': [<matplotlib.lines.Line2D at 0xf90a3f2c18>],\n",
       " 'means': []}"
      ]
     },
     "execution_count": 17,
     "metadata": {},
     "output_type": "execute_result"
    },
    {
     "data": {
      "image/png": "[encoded data removed]",
      "text/plain": [
       "<Figure size 432x288 with 1 Axes>"
      ]
     },
     "metadata": {
      "needs_background": "light"
     },
     "output_type": "display_data"
    }
   ],
   "source": [
    "plt.boxplot(df[\"Ozone\"])"
   ]
  },
  {
   "cell_type": "code",
   "execution_count": 20,
   "metadata": {
    "ExecuteTime": {
     "end_time": "2020-05-13T09:33:00.024639Z",
     "start_time": "2020-05-13T09:32:59.766456Z"
    },
    "hidden": true,
    "scrolled": true
   },
   "outputs": [
    {
     "data": {
      "text/plain": [
       "{'whiskers': [<matplotlib.lines.Line2D at 0xf90a5375f8>,\n",
       "  <matplotlib.lines.Line2D at 0xf90a5379b0>],\n",
       " 'caps': [<matplotlib.lines.Line2D at 0xf90a537cf8>,\n",
       "  <matplotlib.lines.Line2D at 0xf90a542080>],\n",
       " 'boxes': [<matplotlib.lines.Line2D at 0xf90a5374a8>],\n",
       " 'medians': [<matplotlib.lines.Line2D at 0xf90a5423c8>],\n",
       " 'fliers': [<matplotlib.lines.Line2D at 0xf90a542710>],\n",
       " 'means': []}"
      ]
     },
     "execution_count": 20,
     "metadata": {},
     "output_type": "execute_result"
    },
    {
     "data": {
      "image/png": "[encoded data removed]",
      "text/plain": [
       "<Figure size 432x288 with 1 Axes>"
      ]
     },
     "metadata": {
      "needs_background": "light"
     },
     "output_type": "display_data"
    }
   ],
   "source": [
    "plt.boxplot(df[\"Wind\"])"
   ]
  },
  {
   "cell_type": "code",
   "execution_count": 21,
   "metadata": {
    "ExecuteTime": {
     "end_time": "2020-05-13T09:34:37.554955Z",
     "start_time": "2020-05-13T09:34:37.171682Z"
    },
    "hidden": true
   },
   "outputs": [
    {
     "data": {
      "text/plain": [
       "{'whiskers': [<matplotlib.lines.Line2D at 0xf90a598b00>,\n",
       "  <matplotlib.lines.Line2D at 0xf90a598eb8>],\n",
       " 'caps': [<matplotlib.lines.Line2D at 0xf90a5a6240>,\n",
       "  <matplotlib.lines.Line2D at 0xf90a5a6588>],\n",
       " 'boxes': [<matplotlib.lines.Line2D at 0xf90a5989b0>],\n",
       " 'medians': [<matplotlib.lines.Line2D at 0xf90a5a68d0>],\n",
       " 'fliers': [<matplotlib.lines.Line2D at 0xf90a5a6c18>],\n",
       " 'means': []}"
      ]
     },
     "execution_count": 21,
     "metadata": {},
     "output_type": "execute_result"
    },
    {
     "data": {
      "image/png": "[encoded data removed]",
      "text/plain": [
       "<Figure size 432x288 with 1 Axes>"
      ]
     },
     "metadata": {
      "needs_background": "light"
     },
     "output_type": "display_data"
    }
   ],
   "source": [
    "plt.boxplot(df[\"Solar.R\"])"
   ]
  },
  {
   "cell_type": "code",
   "execution_count": 6,
   "metadata": {
    "ExecuteTime": {
     "end_time": "2020-05-13T09:17:56.603587Z",
     "start_time": "2020-05-13T09:17:56.548531Z"
    },
    "hidden": true
   },
   "outputs": [],
   "source": [
    "\n",
    "\n",
    "# 이상치 제거\n",
    "## ozone\n",
    "q1, q3 = np.percentile(df['Ozone'],[25,75])\n",
    "irq = q3 - q1\n",
    "upper = q3 + irq * 1.5\n",
    "mask = df['Ozone'] > upper\n",
    "df = df.loc[~mask]\n",
    "\n",
    "## wind\n",
    "q_1, q_3 = np.percentile(df['Wind'],[25,75])\n",
    "irq = q_3 - q_1\n",
    "up = q_3 + irq * 1.5\n",
    "mask2 = df['Wind'] > up\n",
    "df = df.loc[~mask2]"
   ]
  },
  {
   "cell_type": "markdown",
   "metadata": {},
   "source": [
    "## 학습"
   ]
  },
  {
   "cell_type": "code",
   "execution_count": 8,
   "metadata": {
    "ExecuteTime": {
     "end_time": "2020-05-13T09:19:43.068235Z",
     "start_time": "2020-05-13T09:19:42.998185Z"
    }
   },
   "outputs": [
    {
     "name": "stdout",
     "output_type": "stream",
     "text": [
      "예측값은 : [27.97594664]\n"
     ]
    }
   ],
   "source": [
    "# learning data\n",
    "X = df[['Solar.R','Wind','Temp']]\n",
    "Y = df['Ozone']\n",
    "\n",
    "# learning\n",
    "lm = linear_model.LinearRegression()\n",
    "lm.fit(X,Y)\n",
    "\n",
    "# prediction\n",
    "prediction = lm.predict([[170, 7.4, 67]])\n",
    "print('예측값은 : {}'.format(prediction))"
   ]
  },
  {
   "cell_type": "markdown",
   "metadata": {},
   "source": [
    "# 선형 회귀의 한계점"
   ]
  },
  {
   "cell_type": "code",
   "execution_count": 1,
   "metadata": {
    "ExecuteTime": {
     "end_time": "2020-05-17T13:57:07.411582Z",
     "start_time": "2020-05-17T13:56:40.897811Z"
    }
   },
   "outputs": [
    {
     "name": "stderr",
     "output_type": "stream",
     "text": [
      "C:\\python\\envs\\cpu_env\\lib\\site-packages\\tensorflow\\python\\framework\\dtypes.py:493: FutureWarning: Passing (type, 1) or '1type' as a synonym of type is deprecated; in a future version of numpy, it will be understood as (type, (1,)) / '(1,)type'.\n",
      "  _np_qint8 = np.dtype([(\"qint8\", np.int8, 1)])\n",
      "C:\\python\\envs\\cpu_env\\lib\\site-packages\\tensorflow\\python\\framework\\dtypes.py:494: FutureWarning: Passing (type, 1) or '1type' as a synonym of type is deprecated; in a future version of numpy, it will be understood as (type, (1,)) / '(1,)type'.\n",
      "  _np_quint8 = np.dtype([(\"quint8\", np.uint8, 1)])\n",
      "C:\\python\\envs\\cpu_env\\lib\\site-packages\\tensorflow\\python\\framework\\dtypes.py:495: FutureWarning: Passing (type, 1) or '1type' as a synonym of type is deprecated; in a future version of numpy, it will be understood as (type, (1,)) / '(1,)type'.\n",
      "  _np_qint16 = np.dtype([(\"qint16\", np.int16, 1)])\n",
      "C:\\python\\envs\\cpu_env\\lib\\site-packages\\tensorflow\\python\\framework\\dtypes.py:496: FutureWarning: Passing (type, 1) or '1type' as a synonym of type is deprecated; in a future version of numpy, it will be understood as (type, (1,)) / '(1,)type'.\n",
      "  _np_quint16 = np.dtype([(\"quint16\", np.uint16, 1)])\n",
      "C:\\python\\envs\\cpu_env\\lib\\site-packages\\tensorflow\\python\\framework\\dtypes.py:497: FutureWarning: Passing (type, 1) or '1type' as a synonym of type is deprecated; in a future version of numpy, it will be understood as (type, (1,)) / '(1,)type'.\n",
      "  _np_qint32 = np.dtype([(\"qint32\", np.int32, 1)])\n",
      "C:\\python\\envs\\cpu_env\\lib\\site-packages\\tensorflow\\python\\framework\\dtypes.py:502: FutureWarning: Passing (type, 1) or '1type' as a synonym of type is deprecated; in a future version of numpy, it will be understood as (type, (1,)) / '(1,)type'.\n",
      "  np_resource = np.dtype([(\"resource\", np.ubyte, 1)])\n"
     ]
    },
    {
     "name": "stdout",
     "output_type": "stream",
     "text": [
      "[0.6326531]\n"
     ]
    }
   ],
   "source": [
    "import tensorflow as tf\n",
    "\n",
    "x_data = [1,2,5,8,10]\n",
    "y_data = [0,0,0,1,1]\n",
    "\n",
    "x = tf.placeholder(dtype=tf.float32)\n",
    "y = tf.placeholder(dtype=tf.float32)\n",
    "\n",
    "W = tf.Variable(tf.random_normal([1]), name = \"Weight\")\n",
    "b = tf.Variable(tf.random_normal([1]), name = \"bias\")\n",
    "\n",
    "H = W * x + b\n",
    "\n",
    "cost = tf.reduce_mean(tf.square(H-y))\n",
    "\n",
    "optimizer = tf.train.GradientDescentOptimizer(learning_rate = 0.01)\n",
    "train= optimizer.minimize(cost)\n",
    "\n",
    "sess = tf.Session()\n",
    "sess.run(tf.global_variables_initializer())\n",
    "for step in range(30000):\n",
    "    _,cost_val = sess.run([train,cost],\n",
    "                         feed_dict = {x : x_data,\n",
    "                                     y : y_data})\n",
    "print(sess.run(H, feed_dict={x : 7}))"
   ]
  },
  {
   "cell_type": "code",
   "execution_count": 2,
   "metadata": {
    "ExecuteTime": {
     "end_time": "2020-05-17T13:57:29.622730Z",
     "start_time": "2020-05-17T13:57:11.066221Z"
    }
   },
   "outputs": [
    {
     "name": "stdout",
     "output_type": "stream",
     "text": [
      "[0.4585635]\n"
     ]
    }
   ],
   "source": [
    "import tensorflow as tf\n",
    "\n",
    "x_data = [1,2,5,8,10,20]\n",
    "y_data = [0,0,0,1,1,1]\n",
    "\n",
    "x = tf.placeholder(dtype=tf.float32)\n",
    "y = tf.placeholder(dtype=tf.float32)\n",
    "\n",
    "W = tf.Variable(tf.random_normal([1]), name = \"Weight\")\n",
    "b = tf.Variable(tf.random_normal([1]), name = \"bias\")\n",
    "\n",
    "H = W * x + b\n",
    "\n",
    "cost = tf.reduce_mean(tf.square(H-y))\n",
    "\n",
    "optimizer = tf.train.GradientDescentOptimizer(learning_rate = 0.01)\n",
    "train= optimizer.minimize(cost)\n",
    "\n",
    "sess = tf.Session()\n",
    "sess.run(tf.global_variables_initializer())\n",
    "for step in range(30000):\n",
    "    _,cost_val = sess.run([train,cost],\n",
    "                         feed_dict = {x : x_data,\n",
    "                                     y : y_data})\n",
    "\n",
    "print(sess.run(H, feed_dict={x : 7}))"
   ]
  }
 ],
 "metadata": {
  "kernelspec": {
   "display_name": "Python [conda env:cpu_env] *",
   "language": "python",
   "name": "conda-env-cpu_env-py"
  },
  "language_info": {
   "codemirror_mode": {
    "name": "ipython",
    "version": 3
   },
   "file_extension": ".py",
   "mimetype": "text/x-python",
   "name": "python",
   "nbconvert_exporter": "python",
   "pygments_lexer": "ipython3",
   "version": "3.6.9"
  },
  "toc": {
   "base_numbering": 1,
   "nav_menu": {},
   "number_sections": true,
   "sideBar": true,
   "skip_h1_title": false,
   "title_cell": "Table of Contents",
   "title_sidebar": "Contents",
   "toc_cell": false,
   "toc_position": {},
   "toc_section_display": true,
   "toc_window_display": false
  },
  "varInspector": {
   "cols": {
    "lenName": 16,
    "lenType": 16,
    "lenVar": 40
   },
   "kernels_config": {
    "python": {
     "delete_cmd_postfix": "",
     "delete_cmd_prefix": "del ",
     "library": "var_list.py",
     "varRefreshCmd": "print(var_dic_list())"
    },
    "r": {
     "delete_cmd_postfix": ") ",
     "delete_cmd_prefix": "rm(",
     "library": "var_list.r",
     "varRefreshCmd": "cat(var_dic_list()) "
    }
   },
   "types_to_exclude": [
    "module",
    "function",
    "builtin_function_or_method",
    "instance",
    "_Feature"
   ],
   "window_display": false
  }
 },
 "nbformat": 4,
 "nbformat_minor": 2
}
