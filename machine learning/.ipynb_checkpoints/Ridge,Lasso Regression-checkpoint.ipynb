{
 "cells": [
  {
   "cell_type": "markdown",
   "metadata": {},
   "source": [
    "# Ridge(L2), Lasso(L1), MSE 비교"
   ]
  },
  {
   "cell_type": "code",
   "execution_count": 2,
   "metadata": {
    "ExecuteTime": {
     "end_time": "2020-05-15T04:55:31.632491Z",
     "start_time": "2020-05-15T04:55:31.621483Z"
    },
    "scrolled": true
   },
   "outputs": [
    {
     "name": "stdout",
     "output_type": "stream",
     "text": [
      "Populating the interactive namespace from numpy and matplotlib\n"
     ]
    }
   ],
   "source": [
    "# module import\n",
    "%pylab inline\n",
    "import numpy as np\n",
    "import matplotlib.pyplot as plt"
   ]
  },
  {
   "cell_type": "code",
   "execution_count": 3,
   "metadata": {
    "ExecuteTime": {
     "end_time": "2020-05-15T04:55:33.233108Z",
     "start_time": "2020-05-15T04:55:33.219097Z"
    }
   },
   "outputs": [
    {
     "data": {
      "text/plain": [
       "<Figure size 864x432 with 0 Axes>"
      ]
     },
     "metadata": {},
     "output_type": "display_data"
    }
   ],
   "source": [
    "# plot의 크기 설정\n",
    "fig = plt.figure(figsize=[12,6])\n",
    "# 범위 설정( -10 에서 10까지, 100개)\n",
    "rng = np.linspace(-10,10,100)"
   ]
  },
  {
   "cell_type": "code",
   "execution_count": 4,
   "metadata": {
    "ExecuteTime": {
     "end_time": "2020-05-15T04:55:35.082032Z",
     "start_time": "2020-05-15T04:55:35.076028Z"
    }
   },
   "outputs": [],
   "source": [
    "# mse\n",
    "mse = (0.5*(rng-3))**2 + 30\n",
    "# l2는 제곱값\n",
    "l2 = rng**2\n",
    "# l1은 절대값\n",
    "l1 = 5*np.abs(rng)\n",
    "\n",
    "# ridge, lasso 계산\n",
    "ridge = mse + l2\n",
    "lasso = mse + l1"
   ]
  },
  {
   "cell_type": "code",
   "execution_count": 5,
   "metadata": {
    "ExecuteTime": {
     "end_time": "2020-05-15T04:55:37.933380Z",
     "start_time": "2020-05-15T04:55:37.207864Z"
    }
   },
   "outputs": [
    {
     "data": {
      "text/plain": [
       "<matplotlib.legend.Legend at 0x7289d59cc0>"
      ]
     },
     "execution_count": 5,
     "metadata": {},
     "output_type": "execute_result"
    },
    {
     "data": {
      "image/png": "[encoded data removed]",
      "text/plain": [
       "<Figure size 432x288 with 2 Axes>"
      ]
     },
     "metadata": {
      "needs_background": "light"
     },
     "output_type": "display_data"
    }
   ],
   "source": [
    "plt.subplot(1,2,1)\n",
    "plt.plot(rng,mse,label='MSE')\n",
    "plt.plot(rng,l2,'--',label='L2')\n",
    "plt.plot(rng,ridge, lw=2, label='Ridge')\n",
    "plt.xlabel('w'); plt.ylabel('Error')\n",
    "plt.legend()\n",
    "\n",
    "plt.subplot(1,2,2)\n",
    "plt.plot(rng,mse,label='MSE')\n",
    "plt.plot(rng,l1,'--',label='L1')\n",
    "plt.plot(rng,lasso, lw=2, label='Lasso')\n",
    "plt.xlabel('w'); plt.ylabel('Error')\n",
    "plt.legend()"
   ]
  },
  {
   "cell_type": "markdown",
   "metadata": {},
   "source": [
    "# 보스턴 데이터셋으로 비교해보자"
   ]
  },
  {
   "cell_type": "markdown",
   "metadata": {},
   "source": [
    "## 단순선형회귀"
   ]
  },
  {
   "cell_type": "code",
   "execution_count": 8,
   "metadata": {
    "ExecuteTime": {
     "end_time": "2020-05-15T05:12:59.983576Z",
     "start_time": "2020-05-15T05:12:59.979574Z"
    }
   },
   "outputs": [],
   "source": [
    "import mglearn\n",
    "from sklearn.model_selection import train_test_split\n",
    "from sklearn.linear_model import LinearRegression"
   ]
  },
  {
   "cell_type": "code",
   "execution_count": 9,
   "metadata": {
    "ExecuteTime": {
     "end_time": "2020-05-15T05:13:01.851358Z",
     "start_time": "2020-05-15T05:13:01.604124Z"
    }
   },
   "outputs": [],
   "source": [
    "X, y = mglearn.datasets.load_extended_boston()\n",
    "X_train, X_test, y_train, y_test = train_test_split(X, y, random_state = 0)\n",
    "lr = LinearRegression().fit(X_train, y_train)"
   ]
  },
  {
   "cell_type": "code",
   "execution_count": 11,
   "metadata": {
    "ExecuteTime": {
     "end_time": "2020-05-15T05:14:38.652547Z",
     "start_time": "2020-05-15T05:14:38.641538Z"
    },
    "scrolled": true
   },
   "outputs": [
    {
     "name": "stdout",
     "output_type": "stream",
     "text": [
      "훈련 세트 점수 : 0.95\n",
      "테스트 세트 점수 : 0.61\n"
     ]
    }
   ],
   "source": [
    "print('훈련 세트 점수 : {:.2f}'.format(lr.score(X_train, y_train)))\n",
    "print('테스트 세트 점수 : {:.2f}'.format(lr.score(X_test, y_test)))"
   ]
  },
  {
   "cell_type": "markdown",
   "metadata": {},
   "source": [
    "## 리지회귀"
   ]
  },
  {
   "cell_type": "code",
   "execution_count": 13,
   "metadata": {
    "ExecuteTime": {
     "end_time": "2020-05-15T05:19:54.590202Z",
     "start_time": "2020-05-15T05:19:54.586203Z"
    }
   },
   "outputs": [],
   "source": [
    "from sklearn.linear_model import Ridge"
   ]
  },
  {
   "cell_type": "code",
   "execution_count": 14,
   "metadata": {
    "ExecuteTime": {
     "end_time": "2020-05-15T05:19:56.059507Z",
     "start_time": "2020-05-15T05:19:55.994451Z"
    }
   },
   "outputs": [
    {
     "name": "stdout",
     "output_type": "stream",
     "text": [
      "훈련 세트 점수 : 0.89\n",
      "테스트 세트 점수 : 0.75\n"
     ]
    }
   ],
   "source": [
    "ridge = Ridge().fit(X_train, y_train)\n",
    "print('훈련 세트 점수 : {:.2f}'.format(ridge.score(X_train, y_train)))\n",
    "print('테스트 세트 점수 : {:.2f}'.format(ridge.score(X_test, y_test)))"
   ]
  },
  {
   "cell_type": "code",
   "execution_count": 18,
   "metadata": {
    "ExecuteTime": {
     "end_time": "2020-05-15T05:25:01.263579Z",
     "start_time": "2020-05-15T05:25:01.242565Z"
    },
    "scrolled": true
   },
   "outputs": [
    {
     "name": "stdout",
     "output_type": "stream",
     "text": [
      "훈련 세트 점수 : 0.79\n",
      "테스트 세트 점수 : 0.64\n",
      "훈련 세트 점수 : 0.93\n",
      "테스트 세트 점수 : 0.77\n"
     ]
    }
   ],
   "source": [
    "# alpha 값을 조절해보자\n",
    "ridge_10 = Ridge(alpha=10).fit(X_train, y_train)\n",
    "print('훈련 세트 점수 : {:.2f}'.format(ridge_10.score(X_train, y_train)))\n",
    "print('테스트 세트 점수 : {:.2f}'.format(ridge_10.score(X_test, y_test)))\n",
    "\n",
    "ridge_1 = Ridge(alpha=0.1).fit(X_train, y_train)\n",
    "print('훈련 세트 점수 : {:.2f}'.format(ridge_1.score(X_train, y_train)))\n",
    "print('테스트 세트 점수 : {:.2f}'.format(ridge_1.score(X_test, y_test)))\n"
   ]
  },
  {
   "cell_type": "code",
   "execution_count": 21,
   "metadata": {
    "ExecuteTime": {
     "end_time": "2020-05-15T05:26:01.813838Z",
     "start_time": "2020-05-15T05:25:52.755065Z"
    }
   },
   "outputs": [
    {
     "data": {
      "image/png": "[encoded data removed]",
      "text/plain": [
       "<Figure size 432x288 with 1 Axes>"
      ]
     },
     "metadata": {
      "needs_background": "light"
     },
     "output_type": "display_data"
    }
   ],
   "source": [
    "mglearn.plots.plot_ridge_n_samples()"
   ]
  },
  {
   "cell_type": "markdown",
   "metadata": {},
   "source": [
    "## 라쏘 회귀"
   ]
  },
  {
   "cell_type": "code",
   "execution_count": 27,
   "metadata": {
    "ExecuteTime": {
     "end_time": "2020-05-15T05:45:57.875394Z",
     "start_time": "2020-05-15T05:45:57.858383Z"
    }
   },
   "outputs": [
    {
     "name": "stdout",
     "output_type": "stream",
     "text": [
      "훈련 세트 점수 : 0.29\n",
      "테스트 세트 점수 : 0.21\n",
      "기존 특성 개수 :  104\n",
      "사용한 특성의 개수 :  4\n"
     ]
    }
   ],
   "source": [
    "from sklearn.linear_model import Lasso\n",
    "\n",
    "lasso = Lasso().fit(X_train, y_train)\n",
    "print('훈련 세트 점수 : {:.2f}'.format(lasso.score(X_train, y_train)))\n",
    "print('테스트 세트 점수 : {:.2f}'.format(lasso.score(X_test, y_test)))\n",
    "print('기존 특성 개수 : ', len(X_train[0]))\n",
    "print('사용한 특성의 개수 : ', np.sum(lasso.coef_ != 0))"
   ]
  },
  {
   "cell_type": "code",
   "execution_count": 29,
   "metadata": {
    "ExecuteTime": {
     "end_time": "2020-05-15T05:47:12.367581Z",
     "start_time": "2020-05-15T05:47:12.243492Z"
    },
    "scrolled": true
   },
   "outputs": [
    {
     "name": "stdout",
     "output_type": "stream",
     "text": [
      "훈련 세트 점수 : 0.90\n",
      "테스트 세트 점수 : 0.77\n",
      "기존 특성 개수 :  104\n",
      "사용한 특성의 개수 :  33\n"
     ]
    }
   ],
   "source": [
    "lasso01 = Lasso(alpha=0.01, max_iter=100000).fit(X_train, y_train)\n",
    "print('훈련 세트 점수 : {:.2f}'.format(lasso01.score(X_train, y_train)))\n",
    "print('테스트 세트 점수 : {:.2f}'.format(lasso01.score(X_test, y_test)))\n",
    "print('기존 특성 개수 : ', len(X_train[0]))\n",
    "print('사용한 특성의 개수 : ', np.sum(lasso01.coef_ != 0))"
   ]
  },
  {
   "cell_type": "code",
   "execution_count": 30,
   "metadata": {
    "ExecuteTime": {
     "end_time": "2020-05-15T05:47:57.550807Z",
     "start_time": "2020-05-15T05:47:52.938846Z"
    }
   },
   "outputs": [
    {
     "name": "stdout",
     "output_type": "stream",
     "text": [
      "훈련 세트 점수 : 0.95\n",
      "테스트 세트 점수 : 0.64\n",
      "기존 특성 개수 :  104\n",
      "사용한 특성의 개수 :  96\n"
     ]
    }
   ],
   "source": [
    "lasso0001 = Lasso(alpha=0.0001, max_iter=100000).fit(X_train, y_train)\n",
    "print('훈련 세트 점수 : {:.2f}'.format(lasso0001.score(X_train, y_train)))\n",
    "print('테스트 세트 점수 : {:.2f}'.format(lasso0001.score(X_test, y_test)))\n",
    "print('기존 특성 개수 : ', len(X_train[0]))\n",
    "print('사용한 특성의 개수 : ', np.sum(lasso0001.coef_ != 0))"
   ]
  }
 ],
 "metadata": {
  "kernelspec": {
   "display_name": "Python [conda env:cpu_env] *",
   "language": "python",
   "name": "conda-env-cpu_env-py"
  },
  "language_info": {
   "codemirror_mode": {
    "name": "ipython",
    "version": 3
   },
   "file_extension": ".py",
   "mimetype": "text/x-python",
   "name": "python",
   "nbconvert_exporter": "python",
   "pygments_lexer": "ipython3",
   "version": "3.6.9"
  },
  "toc": {
   "base_numbering": 1,
   "nav_menu": {},
   "number_sections": true,
   "sideBar": true,
   "skip_h1_title": false,
   "title_cell": "Table of Contents",
   "title_sidebar": "Contents",
   "toc_cell": false,
   "toc_position": {},
   "toc_section_display": true,
   "toc_window_display": false
  },
  "varInspector": {
   "cols": {
    "lenName": 16,
    "lenType": 16,
    "lenVar": 40
   },
   "kernels_config": {
    "python": {
     "delete_cmd_postfix": "",
     "delete_cmd_prefix": "del ",
     "library": "var_list.py",
     "varRefreshCmd": "print(var_dic_list())"
    },
    "r": {
     "delete_cmd_postfix": ") ",
     "delete_cmd_prefix": "rm(",
     "library": "var_list.r",
     "varRefreshCmd": "cat(var_dic_list()) "
    }
   },
   "types_to_exclude": [
    "module",
    "function",
    "builtin_function_or_method",
    "instance",
    "_Feature"
   ],
   "window_display": false
  }
 },
 "nbformat": 4,
 "nbformat_minor": 2
}
