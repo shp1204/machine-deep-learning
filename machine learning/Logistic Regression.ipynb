{
 "cells": [
  {
   "cell_type": "markdown",
   "metadata": {},
   "source": [
    "# 독립변수가 1개"
   ]
  },
  {
   "cell_type": "code",
   "execution_count": 31,
   "metadata": {
    "ExecuteTime": {
     "end_time": "2020-05-17T15:18:19.752556Z",
     "start_time": "2020-05-17T15:18:19.460440Z"
    }
   },
   "outputs": [
    {
     "data": {
      "text/plain": [
       "<matplotlib.collections.PathCollection at 0xdbd5a70b00>"
      ]
     },
     "execution_count": 31,
     "metadata": {},
     "output_type": "execute_result"
    },
    {
     "data": {
      "image/png": "[encoded data removed]",
      "text/plain": [
       "<Figure size 432x288 with 1 Axes>"
      ]
     },
     "metadata": {
      "needs_background": "light"
     },
     "output_type": "display_data"
    }
   ],
   "source": [
    "import matplotlib.pyplot as plt\n",
    "import numpy as np\n",
    "\n",
    "# f(x) = 1 / ( 1 + e ** (-x))를 그려보자 \n",
    "x = np.arange(-10,10,0.1)\n",
    "y = 1 / ( 1 + np.exp(-x))\n",
    "plt.scatter(x,y)"
   ]
  },
  {
   "cell_type": "code",
   "execution_count": 32,
   "metadata": {
    "ExecuteTime": {
     "end_time": "2020-05-17T15:18:42.602397Z",
     "start_time": "2020-05-17T15:18:21.834966Z"
    },
    "scrolled": false
   },
   "outputs": [
    {
     "name": "stdout",
     "output_type": "stream",
     "text": [
      "[0.7263343]\n"
     ]
    }
   ],
   "source": [
    "import tensorflow as tf\n",
    "\n",
    "x_data = [1,2,5,8,10,20]\n",
    "y_data = [0,0,0,1,1,1]\n",
    "\n",
    "x = tf.placeholder(dtype=tf.float32)\n",
    "y = tf.placeholder(dtype=tf.float32)\n",
    "\n",
    "W = tf.Variable(tf.random_normal([1]), name = \"Weight\")\n",
    "b = tf.Variable(tf.random_normal([1]), name = \"bias\")\n",
    "\n",
    "logit = W * x + b\n",
    "H = tf.sigmoid(logit)\n",
    "\n",
    "cost = tf.reduce_mean(tf.nn.sigmoid_cross_entropy_with_logits(logits = logit,\n",
    "                                                              labels = y))\n",
    "\n",
    "optimizer = tf.train.GradientDescentOptimizer(learning_rate = 0.01)\n",
    "train= optimizer.minimize(cost)\n",
    "\n",
    "sess = tf.Session()\n",
    "sess.run(tf.global_variables_initializer())\n",
    "for step in range(30000):\n",
    "    _,cost_val = sess.run([train,cost],\n",
    "                         feed_dict = {x : x_data,\n",
    "                                     y : y_data})\n",
    "\n",
    "print(sess.run(H, feed_dict={x : 7}))"
   ]
  },
  {
   "cell_type": "markdown",
   "metadata": {
    "ExecuteTime": {
     "end_time": "2020-05-17T14:41:42.856163Z",
     "start_time": "2020-05-17T14:41:41.376514Z"
    }
   },
   "source": [
    "# 독립변수가 2개"
   ]
  },
  {
   "cell_type": "code",
   "execution_count": 34,
   "metadata": {
    "ExecuteTime": {
     "end_time": "2020-05-17T15:21:14.961733Z",
     "start_time": "2020-05-17T15:20:54.545500Z"
    }
   },
   "outputs": [
    {
     "name": "stdout",
     "output_type": "stream",
     "text": [
      "시험에 통과했어요 : [[0.9379511]]\n"
     ]
    }
   ],
   "source": [
    "import tensorflow as tf\n",
    "\n",
    "x_data = [[1,1],\n",
    "         [2,0],\n",
    "         [5,1],\n",
    "         [2,3],\n",
    "         [3,3],\n",
    "         [8,1],\n",
    "        [10,0]]\n",
    "y_data = [[0],[0],[0],[1],[1],[1],[1]]\n",
    "\n",
    "X = tf.placeholder(shape = [None,2], dtype = tf.float32)\n",
    "Y = tf.placeholder(shape = [None,1], dtype = tf.float32)\n",
    "\n",
    "W = tf.Variable(tf.random_normal([2,1]), name = \"Weight\")\n",
    "b = tf.Variable(tf.random_normal([1]), name = \"bias\")\n",
    "\n",
    "logit = tf.matmul(X,W) + b\n",
    "H = tf.sigmoid(logit) \n",
    "\n",
    "cost = tf.reduce_mean(tf.nn.sigmoid_cross_entropy_with_logits(logits = logit,\n",
    "                                                              labels = Y))\n",
    "\n",
    "optimizer = tf.train.GradientDescentOptimizer(learning_rate = 0.1)\n",
    "train = optimizer.minimize(cost)\n",
    "\n",
    "sess = tf.Session()\n",
    "sess.run(tf.global_variables_initializer()) \n",
    "\n",
    "for step in range(30000):\n",
    "    _,cost_val = sess.run([train,cost],\n",
    "                         feed_dict={\n",
    "                             X : x_data,\n",
    "                             Y : y_data\n",
    "                         })\n",
    "        \n",
    "        \n",
    "result = sess.run(H, feed_dict = {X : [[7,1]]})\n",
    "if result >= 0.5:\n",
    "    print(\"시험에 통과했어요 : {}\".format(result))\n",
    "else:\n",
    "    print(\" 떨어졌어요 : {} \".format(result))\n",
    " "
   ]
  },
  {
   "cell_type": "markdown",
   "metadata": {},
   "source": [
    "# 독립변수가 3개"
   ]
  },
  {
   "cell_type": "code",
   "execution_count": 48,
   "metadata": {
    "ExecuteTime": {
     "end_time": "2020-05-17T15:40:38.036777Z",
     "start_time": "2020-05-17T15:40:38.030769Z"
    }
   },
   "outputs": [],
   "source": [
    "import tensorflow as tf\n",
    "import numpy as np\n",
    "import pandas as pd\n",
    "import matplotlib.pyplot as plt\n",
    "from sklearn.preprocessing import MinMaxScaler\n",
    "from sklearn.linear_model import LogisticRegression"
   ]
  },
  {
   "cell_type": "code",
   "execution_count": 49,
   "metadata": {
    "ExecuteTime": {
     "end_time": "2020-05-17T15:40:39.310688Z",
     "start_time": "2020-05-17T15:40:39.293678Z"
    },
    "scrolled": true
   },
   "outputs": [
    {
     "name": "stdout",
     "output_type": "stream",
     "text": [
      "          admit       gre       gpa      rank\n",
      "admit  1.000000  0.184434  0.178212 -0.242513\n",
      "gre    0.184434  1.000000  0.384266 -0.123447\n",
      "gpa    0.178212  0.384266  1.000000 -0.057461\n",
      "rank  -0.242513 -0.123447 -0.057461  1.000000\n"
     ]
    }
   ],
   "source": [
    "df = pd.read_csv(\"C:/Users/박소희/Desktop/machine-deep-learning/machine learning/data/admission.csv\")\n",
    "print(df.corr())"
   ]
  },
  {
   "cell_type": "code",
   "execution_count": 50,
   "metadata": {
    "ExecuteTime": {
     "end_time": "2020-05-17T15:40:42.625691Z",
     "start_time": "2020-05-17T15:40:42.595668Z"
    },
    "scrolled": true
   },
   "outputs": [
    {
     "data": {
      "text/html": [
       "<div>\n",
       "<style scoped>\n",
       "    .dataframe tbody tr th:only-of-type {\n",
       "        vertical-align: middle;\n",
       "    }\n",
       "\n",
       "    .dataframe tbody tr th {\n",
       "        vertical-align: top;\n",
       "    }\n",
       "\n",
       "    .dataframe thead th {\n",
       "        text-align: right;\n",
       "    }\n",
       "</style>\n",
       "<table border=\"1\" class=\"dataframe\">\n",
       "  <thead>\n",
       "    <tr style=\"text-align: right;\">\n",
       "      <th></th>\n",
       "      <th>admit</th>\n",
       "      <th>gre</th>\n",
       "      <th>gpa</th>\n",
       "      <th>rank</th>\n",
       "    </tr>\n",
       "  </thead>\n",
       "  <tbody>\n",
       "    <tr>\n",
       "      <th>0</th>\n",
       "      <td>0</td>\n",
       "      <td>380</td>\n",
       "      <td>3.61</td>\n",
       "      <td>3</td>\n",
       "    </tr>\n",
       "    <tr>\n",
       "      <th>1</th>\n",
       "      <td>1</td>\n",
       "      <td>660</td>\n",
       "      <td>3.67</td>\n",
       "      <td>3</td>\n",
       "    </tr>\n",
       "    <tr>\n",
       "      <th>2</th>\n",
       "      <td>1</td>\n",
       "      <td>800</td>\n",
       "      <td>4.00</td>\n",
       "      <td>1</td>\n",
       "    </tr>\n",
       "    <tr>\n",
       "      <th>3</th>\n",
       "      <td>1</td>\n",
       "      <td>640</td>\n",
       "      <td>3.19</td>\n",
       "      <td>4</td>\n",
       "    </tr>\n",
       "    <tr>\n",
       "      <th>4</th>\n",
       "      <td>0</td>\n",
       "      <td>520</td>\n",
       "      <td>2.93</td>\n",
       "      <td>4</td>\n",
       "    </tr>\n",
       "    <tr>\n",
       "      <th>...</th>\n",
       "      <td>...</td>\n",
       "      <td>...</td>\n",
       "      <td>...</td>\n",
       "      <td>...</td>\n",
       "    </tr>\n",
       "    <tr>\n",
       "      <th>395</th>\n",
       "      <td>0</td>\n",
       "      <td>620</td>\n",
       "      <td>4.00</td>\n",
       "      <td>2</td>\n",
       "    </tr>\n",
       "    <tr>\n",
       "      <th>396</th>\n",
       "      <td>0</td>\n",
       "      <td>560</td>\n",
       "      <td>3.04</td>\n",
       "      <td>3</td>\n",
       "    </tr>\n",
       "    <tr>\n",
       "      <th>397</th>\n",
       "      <td>0</td>\n",
       "      <td>460</td>\n",
       "      <td>2.63</td>\n",
       "      <td>2</td>\n",
       "    </tr>\n",
       "    <tr>\n",
       "      <th>398</th>\n",
       "      <td>0</td>\n",
       "      <td>700</td>\n",
       "      <td>3.65</td>\n",
       "      <td>2</td>\n",
       "    </tr>\n",
       "    <tr>\n",
       "      <th>399</th>\n",
       "      <td>0</td>\n",
       "      <td>600</td>\n",
       "      <td>3.89</td>\n",
       "      <td>3</td>\n",
       "    </tr>\n",
       "  </tbody>\n",
       "</table>\n",
       "<p>400 rows × 4 columns</p>\n",
       "</div>"
      ],
      "text/plain": [
       "     admit  gre   gpa  rank\n",
       "0        0  380  3.61     3\n",
       "1        1  660  3.67     3\n",
       "2        1  800  4.00     1\n",
       "3        1  640  3.19     4\n",
       "4        0  520  2.93     4\n",
       "..     ...  ...   ...   ...\n",
       "395      0  620  4.00     2\n",
       "396      0  560  3.04     3\n",
       "397      0  460  2.63     2\n",
       "398      0  700  3.65     2\n",
       "399      0  600  3.89     3\n",
       "\n",
       "[400 rows x 4 columns]"
      ]
     },
     "execution_count": 50,
     "metadata": {},
     "output_type": "execute_result"
    }
   ],
   "source": [
    "df"
   ]
  },
  {
   "cell_type": "code",
   "execution_count": 51,
   "metadata": {
    "ExecuteTime": {
     "end_time": "2020-05-17T15:40:44.630465Z",
     "start_time": "2020-05-17T15:40:44.622465Z"
    }
   },
   "outputs": [],
   "source": [
    "# rank 역순으로 변경\n",
    "def change_rank(k):\n",
    "    if k == 4:\n",
    "        return 1\n",
    "    elif k == 3:\n",
    "        return 2\n",
    "    elif k == 2:\n",
    "        return 3\n",
    "    else:\n",
    "        return 4\n",
    "    \n",
    "df[\"rank\"] = df[\"rank\"].apply(lambda x : change_rank(x))"
   ]
  },
  {
   "cell_type": "code",
   "execution_count": 44,
   "metadata": {
    "ExecuteTime": {
     "end_time": "2020-05-17T15:34:40.236646Z",
     "start_time": "2020-05-17T15:34:40.013700Z"
    },
    "scrolled": true
   },
   "outputs": [
    {
     "data": {
      "text/plain": [
       "{'whiskers': [<matplotlib.lines.Line2D at 0xdbd7af3f28>,\n",
       "  <matplotlib.lines.Line2D at 0xdbd7b02320>],\n",
       " 'caps': [<matplotlib.lines.Line2D at 0xdbd7b02668>,\n",
       "  <matplotlib.lines.Line2D at 0xdbd7b029b0>],\n",
       " 'boxes': [<matplotlib.lines.Line2D at 0xdbd7af3dd8>],\n",
       " 'medians': [<matplotlib.lines.Line2D at 0xdbd7b02cf8>],\n",
       " 'fliers': [<matplotlib.lines.Line2D at 0xdbd7b0c080>],\n",
       " 'means': []}"
      ]
     },
     "execution_count": 44,
     "metadata": {},
     "output_type": "execute_result"
    },
    {
     "data": {
      "image/png": "[encoded data removed]",
      "text/plain": [
       "<Figure size 432x288 with 1 Axes>"
      ]
     },
     "metadata": {
      "needs_background": "light"
     },
     "output_type": "display_data"
    }
   ],
   "source": [
    "plt.boxplot(df['gre'])"
   ]
  },
  {
   "cell_type": "code",
   "execution_count": 45,
   "metadata": {
    "ExecuteTime": {
     "end_time": "2020-05-17T15:34:44.599054Z",
     "start_time": "2020-05-17T15:34:44.372881Z"
    }
   },
   "outputs": [
    {
     "data": {
      "text/plain": [
       "{'whiskers': [<matplotlib.lines.Line2D at 0xdbd7b630f0>,\n",
       "  <matplotlib.lines.Line2D at 0xdbd7b63470>],\n",
       " 'caps': [<matplotlib.lines.Line2D at 0xdbd7b637b8>,\n",
       "  <matplotlib.lines.Line2D at 0xdbd7b63b00>],\n",
       " 'boxes': [<matplotlib.lines.Line2D at 0xdbd7b56f60>],\n",
       " 'medians': [<matplotlib.lines.Line2D at 0xdbd7b3ffd0>],\n",
       " 'fliers': [<matplotlib.lines.Line2D at 0xdbd7b6b1d0>],\n",
       " 'means': []}"
      ]
     },
     "execution_count": 45,
     "metadata": {},
     "output_type": "execute_result"
    },
    {
     "data": {
      "image/png": "[encoded data removed]",
      "text/plain": [
       "<Figure size 432x288 with 1 Axes>"
      ]
     },
     "metadata": {
      "needs_background": "light"
     },
     "output_type": "display_data"
    }
   ],
   "source": [
    "plt.boxplot(df['gpa'])"
   ]
  },
  {
   "cell_type": "code",
   "execution_count": 52,
   "metadata": {
    "ExecuteTime": {
     "end_time": "2020-05-17T15:40:48.904511Z",
     "start_time": "2020-05-17T15:40:48.885495Z"
    }
   },
   "outputs": [],
   "source": [
    "def process_outlier(tmp_df, tmp):\n",
    "    q1,q3 = np.percentile(tmp,[25,75])\n",
    "    irq = q3-q1\n",
    "    upper = q3 + irq * 1.5\n",
    "    lower = q1 - irq * 1.5\n",
    "    mask_upper = tmp > upper\n",
    "    mask_lower = tmp < lower\n",
    "    tmp_df = tmp_df.loc[~(mask_upper | mask_lower)]\n",
    "    return tmp_df\n",
    "\n",
    "df = process_outlier(df,df[\"gre\"])\n",
    "df = process_outlier(df,df[\"gpa\"])"
   ]
  },
  {
   "cell_type": "code",
   "execution_count": 54,
   "metadata": {
    "ExecuteTime": {
     "end_time": "2020-05-17T15:43:28.016206Z",
     "start_time": "2020-05-17T15:43:05.529616Z"
    }
   },
   "outputs": [],
   "source": [
    "# @ data set 설정 @\n",
    "# 1 ) x_data\n",
    "x_data = df[[\"gre\",\"gpa\",\"rank\"]].values  \n",
    "# => numpy array가 생성된다\n",
    "# => value값이 너무 크기 때문에 학습이 어렵다\n",
    "# => 최대최소값을 1,0으로 기준을 두고 0에서 1 사이 값으로 변환하여보자\n",
    "x_data = MinMaxScaler().fit_transform(x_data)\n",
    "# 2 ) y_data\n",
    "y_data = df[\"admit\"].values.reshape(-1,1)\n",
    "\n",
    "X = tf.placeholder(shape = [None,3], dtype = tf.float32)\n",
    "Y = tf.placeholder(shape = [None,1], dtype = tf.float32)\n",
    "\n",
    "W = tf.Variable(tf.random_normal([3,1]), name = \"Weight\")\n",
    "b = tf.Variable(tf.random_normal([1]), name = \"bias\")\n",
    "\n",
    "logit = tf.matmul(X,W) + b\n",
    "H = tf.sigmoid(logit)\n",
    "\n",
    "cost = tf.reduce_mean(tf.nn.sigmoid_cross_entropy_with_logits(logits = logit,\n",
    "                                                             labels = Y))\n",
    "optimizer = tf.train.GradientDescentOptimizer(learning_rate = 0.1)\n",
    "train = optimizer.minimize(cost)\n",
    "\n",
    "sess = tf.Session()\n",
    "sess.run(tf.global_variables_initializer()) \n",
    "\n",
    "for step in range(30000):\n",
    "    _,cost_val = sess.run([train,cost],\n",
    "                         feed_dict={\n",
    "                             X : x_data,\n",
    "                             Y : y_data})"
   ]
  },
  {
   "cell_type": "code",
   "execution_count": 55,
   "metadata": {
    "ExecuteTime": {
     "end_time": "2020-05-17T15:44:12.813276Z",
     "start_time": "2020-05-17T15:44:12.729206Z"
    }
   },
   "outputs": [
    {
     "name": "stdout",
     "output_type": "stream",
     "text": [
      "정확도 : 0.703797459602356\n"
     ]
    }
   ],
   "source": [
    "# @ prediction @\n",
    "# H로 예측하면 결과가 True( H >= 0.5 ), False로 나온다\n",
    "# 그래서 이를 숫자로 다시 바꿔줘야한다\n",
    "predict = tf.cast( H >= 0.5, dtype = tf.float32)\n",
    "\n",
    "# @ accuracy @\n",
    "# 현재 test case가 없기 때문에 예측값과 주어진 데이터의 값이 같으면 True, 아니면 False\n",
    "correct = tf.equal(predict,Y)\n",
    "accuracy = tf.reduce_mean(tf.cast(correct, dtype = tf.float32))\n",
    "print(\"정확도 : {}\".format(sess.run(accuracy,\n",
    "                                 feed_dict = {X: x_data,\n",
    "                                              Y: y_data})))"
   ]
  }
 ],
 "metadata": {
  "kernelspec": {
   "display_name": "Python [conda env:cpu_env] *",
   "language": "python",
   "name": "conda-env-cpu_env-py"
  },
  "language_info": {
   "codemirror_mode": {
    "name": "ipython",
    "version": 3
   },
   "file_extension": ".py",
   "mimetype": "text/x-python",
   "name": "python",
   "nbconvert_exporter": "python",
   "pygments_lexer": "ipython3",
   "version": "3.6.9"
  },
  "toc": {
   "base_numbering": 1,
   "nav_menu": {},
   "number_sections": true,
   "sideBar": true,
   "skip_h1_title": false,
   "title_cell": "Table of Contents",
   "title_sidebar": "Contents",
   "toc_cell": false,
   "toc_position": {},
   "toc_section_display": true,
   "toc_window_display": false
  },
  "varInspector": {
   "cols": {
    "lenName": 16,
    "lenType": 16,
    "lenVar": 40
   },
   "kernels_config": {
    "python": {
     "delete_cmd_postfix": "",
     "delete_cmd_prefix": "del ",
     "library": "var_list.py",
     "varRefreshCmd": "print(var_dic_list())"
    },
    "r": {
     "delete_cmd_postfix": ") ",
     "delete_cmd_prefix": "rm(",
     "library": "var_list.r",
     "varRefreshCmd": "cat(var_dic_list()) "
    }
   },
   "types_to_exclude": [
    "module",
    "function",
    "builtin_function_or_method",
    "instance",
    "_Feature"
   ],
   "window_display": false
  }
 },
 "nbformat": 4,
 "nbformat_minor": 2
}
