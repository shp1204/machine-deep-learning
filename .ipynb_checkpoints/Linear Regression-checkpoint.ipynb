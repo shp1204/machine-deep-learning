{
 "cells": [
  {
   "cell_type": "code",
   "execution_count": 2,
   "metadata": {},
   "outputs": [],
   "source": [
    "import tensorflow as tf"
   ]
  },
  {
   "cell_type": "code",
   "execution_count": 4,
   "metadata": {},
   "outputs": [
    {
     "name": "stdout",
     "output_type": "stream",
     "text": [
      "w값 : [-1.0804424], b값 : [-0.09635343], cost값26.561796188354492\n",
      "w값 : [0.8533966], b값 : [0.33326402], cost값0.01600983552634716\n",
      "w값 : [0.92878634], b값 : [0.16188532], cost값0.0037776771932840347\n",
      "w값 : [0.9654075], b값 : [0.07863683], cost값0.0008913765195757151\n",
      "w값 : [0.9831965], b값 : [0.03819832], cost값0.00021032833319623023\n",
      "w값 : [0.9918376], b값 : [0.01855502], cost값4.962875391356647e-05\n",
      "w값 : [0.99603504], b값 : [0.00901324], cost값1.1710618309734855e-05\n",
      "w값 : [0.99807394], b값 : [0.00437832], cost값2.7634305297397077e-06\n",
      "w값 : [0.99906427], b값 : [0.002127], cost값6.521484010590939e-07\n",
      "w값 : [0.9995453], b값 : [0.0010336], cost값1.539729197475026e-07\n",
      "[199.95615]\n"
     ]
    }
   ],
   "source": [
    "# data set 설정\n",
    "x_data = [1,2,3]\n",
    "y_data = [1,2,3]\n",
    "\n",
    "\n",
    "# placeholder\n",
    "x = tf.placeholder(dtype = tf.float32)\n",
    "y = tf.placeholder(dtype = tf.float32)\n",
    "\n",
    "# weight, bias\n",
    "W = tf.Variable(tf.random_normal([1]), name = 'weight')\n",
    "b = tf.Variable(tf.random_normal([1]), name = 'bias')\n",
    "\n",
    "# hypothesis\n",
    "H = W * x + b\n",
    "\n",
    "# cost function\n",
    "cost = tf.reduce_mean(tf.square(H-y))\n",
    "\n",
    "# train node 생성\n",
    "optimizer = tf.train.GradientDescentOptimizer(learning_rate = 0.01)\n",
    "train = optimizer.minimize(cost)\n",
    "\n",
    "# runner session\n",
    "sess = tf.Session()\n",
    "sess.run(tf.global_variables_initializer())\n",
    "\n",
    "# learning\n",
    "for step in range(3000):\n",
    "    _,w_val,cost_val,b_val = sess.run([train,W,cost,b],\n",
    "                            feed_dict={\n",
    "                                   x : x_data,\n",
    "                                   y : y_data\n",
    "                               })\n",
    "    if step % 300 == 0:\n",
    "        print(\"w값 : {}, b값 : {}, cost값{}\".format(w_val,\n",
    "                                            b_val,\n",
    "                                            cost_val))\n",
    "        \n",
    "\n",
    "# prediction\n",
    "print(sess.run(H, feed_dict={ x : 200 }))\n"
   ]
  }
 ],
 "metadata": {
  "kernelspec": {
   "display_name": "Python [conda env:cpu_env] *",
   "language": "python",
   "name": "conda-env-cpu_env-py"
  },
  "language_info": {
   "codemirror_mode": {
    "name": "ipython",
    "version": 3
   },
   "file_extension": ".py",
   "mimetype": "text/x-python",
   "name": "python",
   "nbconvert_exporter": "python",
   "pygments_lexer": "ipython3",
   "version": "3.6.9"
  }
 },
 "nbformat": 4,
 "nbformat_minor": 2
}
